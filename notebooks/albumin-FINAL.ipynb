{
 "cells": [
  {
   "cell_type": "code",
   "execution_count": 1,
   "id": "f44bc485",
   "metadata": {},
   "outputs": [],
   "source": [
    "import logging\n",
    "import pathlib\n",
    "import shutil\n",
    "import sys\n",
    "import csv\n",
    "import os\n",
    "import itertools\n",
    "from tqdm import tqdm\n",
    "logging.basicConfig()\n",
    "\n",
    "import scipy\n",
    "from sklearn.tree import DecisionTreeRegressor\n",
    "from sklearn.model_selection import train_test_split, cross_validate\n",
    "from matplotlib import pyplot as plt\n",
    "from tdc import Evaluator\n",
    "import numpy as np\n",
    "import seaborn as sb\n",
    "\n",
    "from rdkit import Chem\n",
    "from rdkit.Chem import MACCSkeys\n",
    "\n",
    "sys.path.append('..')\n",
    "from sbap.sdf import ChemblSdfReader\n",
    "from sbap.featurizers.prolif_smina import SminaDockingPersistenceHandler, SminaConfig, DockedProlifFingerprintFeaturizer, SminaDockingScoreFeaturizer"
   ]
  },
  {
   "cell_type": "code",
   "execution_count": 4,
   "id": "65d5cd98",
   "metadata": {},
   "outputs": [
    {
     "name": "stderr",
     "output_type": "stream",
     "text": [
      "INFO:SminaDockingPersistenceHandler:Starting docking process with batch_size=1 and starting_batch=1...\n",
      "INFO:SminaDockingPersistenceHandler:Skipping batch. 1 skipped batches left...\n",
      "  2%|██                                                                                                                           | 9/530.0 [01:36<1:51:20, 12.82s/it][13:50:57] *****: Warning - no explicit hydrogens in mol2 file but needed for formal charge estimation.\n",
      "[13:50:57] *****: warning - aromatic N with 3 aromatic bonds - skipping charge guess for this atom\n",
      "  2%|██▎                                                                                                                         | 10/530.0 [01:57<2:10:55, 15.11s/it][13:51:11] *****: Warning - no explicit hydrogens in mol2 file but needed for formal charge estimation.\n",
      "  3%|███▉                                                                                                                        | 17/530.0 [02:52<1:02:56,  7.36s/it]ERROR:SminaDockingPersistenceHandler:Batch 17 encountered error: Bad Conformer Id\n",
      "  4%|████▉                                                                                                                       | 21/530.0 [03:22<1:07:06,  7.91s/it][13:52:29] *****: Warning - no explicit hydrogens in mol2 file but needed for formal charge estimation.\n",
      "  8%|█████████▌                                                                                                                  | 41/530.0 [06:13<1:02:13,  7.64s/it]ERROR:SminaDockingPersistenceHandler:Batch 41 encountered error: Bad Conformer Id\n",
      "  8%|█████████▊                                                                                                                  | 42/530.0 [06:29<1:24:12, 10.35s/it]ERROR:SminaDockingPersistenceHandler:Batch 42 encountered error: Bad Conformer Id\n",
      "  8%|██████████                                                                                                                  | 43/530.0 [06:45<1:36:30, 11.89s/it]ERROR:SminaDockingPersistenceHandler:Batch 43 encountered error: Bad Conformer Id\n",
      " 10%|███████████▉                                                                                                                | 51/530.0 [07:53<1:06:35,  8.34s/it]ERROR:SminaDockingPersistenceHandler:Batch 51 encountered error: Bad Conformer Id\n",
      " 10%|████████████▍                                                                                                               | 53/530.0 [08:21<1:27:49, 11.05s/it][13:57:25] *****: Warning - no explicit hydrogens in mol2 file but needed for formal charge estimation.\n",
      " 11%|█████████████▊                                                                                                                | 58/530.0 [08:47<52:50,  6.72s/it]ERROR:SminaDockingPersistenceHandler:Batch 58 encountered error: Bad Conformer Id\n",
      " 12%|███████████████▍                                                                                                            | 66/530.0 [10:40<1:36:09, 12.43s/it][13:59:46] *****: Warning - no explicit hydrogens in mol2 file but needed for formal charge estimation.\n",
      " 13%|████████████████▍                                                                                                           | 70/530.0 [11:21<1:25:23, 11.14s/it][14:00:28] *****: Warning - no explicit hydrogens in mol2 file but needed for formal charge estimation.\n",
      " 14%|████████████████▊                                                                                                           | 72/530.0 [11:38<1:15:08,  9.84s/it][14:00:46] *****: Warning - no explicit hydrogens in mol2 file but needed for formal charge estimation.\n",
      " 15%|██████████████████▎                                                                                                           | 77/530.0 [12:16<57:38,  7.64s/it]ERROR:SminaDockingPersistenceHandler:Batch 77 encountered error: Bad Conformer Id\n",
      " 16%|████████████████████▏                                                                                                         | 85/530.0 [13:16<57:46,  7.79s/it][14:02:16] UFFTYPER: Unrecognized charge state for atom: 20\n",
      " 17%|████████████████████▊                                                                                                       | 89/530.0 [13:58<1:09:40,  9.48s/it][14:03:02] *****: Warning - no explicit hydrogens in mol2 file but needed for formal charge estimation.\n",
      " 18%|██████████████████████▎                                                                                                       | 94/530.0 [14:24<48:14,  6.64s/it][14:03:48] *****: warning - aromatic N with 3 aromatic bonds - skipping charge guess for this atom\n",
      " 18%|██████████████████████▋                                                                                                     | 97/530.0 [15:06<1:15:40, 10.49s/it][14:04:16] *****: Warning - no explicit hydrogens in mol2 file but needed for formal charge estimation.\n",
      " 22%|███████████████████████████▊                                                                                                 | 118/530.0 [18:10<56:51,  8.28s/it][14:07:15] *****: Warning - no explicit hydrogens in mol2 file but needed for formal charge estimation.\n",
      " 23%|████████████████████████████▌                                                                                              | 123/530.0 [19:08<1:20:07, 11.81s/it][14:08:16] *****: Warning - no explicit hydrogens in mol2 file but needed for formal charge estimation.\n",
      " 24%|█████████████████████████████▍                                                                                             | 127/530.0 [19:41<1:02:51,  9.36s/it][14:08:47] *****: Warning - no explicit hydrogens in mol2 file but needed for formal charge estimation.\n",
      " 24%|██████████████████████████████▍                                                                                              | 129/530.0 [19:56<57:07,  8.55s/it][14:09:02] *****: Warning - no explicit hydrogens in mol2 file but needed for formal charge estimation.\n",
      " 25%|██████████████████████████████▋                                                                                              | 130/530.0 [20:01<51:13,  7.68s/it][14:09:08] *****: Warning - no explicit hydrogens in mol2 file but needed for formal charge estimation.\n",
      " 26%|████████████████████████████████▎                                                                                            | 137/530.0 [21:07<59:48,  9.13s/it][14:10:18] *****: Warning - no explicit hydrogens in mol2 file but needed for formal charge estimation.\n",
      " 26%|█████████████████████████████████                                                                                            | 140/530.0 [21:32<52:56,  8.15s/it][14:10:38] *****: Warning - no explicit hydrogens in mol2 file but needed for formal charge estimation.\n",
      " 27%|██████████████████████████████████▏                                                                                          | 145/530.0 [22:02<41:12,  6.42s/it][14:11:25] *****: warning - aromatic N with 3 aromatic bonds - skipping charge guess for this atom\n",
      " 28%|█████████████████████████████████▉                                                                                         | 146/530.0 [22:24<1:11:26, 11.16s/it]ERROR:SminaDockingPersistenceHandler:Batch 146 encountered error: Bad Conformer Id\n",
      " 28%|███████████████████████████████████▏                                                                                         | 149/530.0 [22:50<55:15,  8.70s/it][14:11:50] UFFTYPER: Unrecognized charge state for atom: 20\n",
      " 32%|███████████████████████████████████████▍                                                                                     | 167/530.0 [24:49<45:18,  7.49s/it][14:13:55] *****: Warning - no explicit hydrogens in mol2 file but needed for formal charge estimation.\n",
      " 32%|███████████████████████████████████████▌                                                                                     | 168/530.0 [24:55<42:47,  7.09s/it][14:14:02] *****: Warning - no explicit hydrogens in mol2 file but needed for formal charge estimation.\n"
     ]
    },
    {
     "name": "stderr",
     "output_type": "stream",
     "text": [
      " 35%|███████████████████████████████████████████▊                                                                                 | 186/530.0 [27:18<49:48,  8.69s/it][14:16:22] *****: Warning - no explicit hydrogens in mol2 file but needed for formal charge estimation.\n",
      " 35%|████████████████████████████████████████████▎                                                                                | 188/530.0 [27:32<45:53,  8.05s/it][14:16:37] *****: Warning - no explicit hydrogens in mol2 file but needed for formal charge estimation.\n",
      " 36%|████████████████████████████████████████████▌                                                                                | 189/530.0 [27:37<40:43,  7.17s/it][14:16:42] *****: Warning - no explicit hydrogens in mol2 file but needed for formal charge estimation.\n",
      " 36%|████████████████████████████████████████████▊                                                                                | 190/530.0 [27:42<37:25,  6.60s/it]ERROR:SminaDockingPersistenceHandler:Batch 190 encountered error: Bad Conformer Id\n",
      " 41%|███████████████████████████████████████████████████▏                                                                         | 217/530.0 [32:11<47:02,  9.02s/it][14:21:18] *****: Warning - no explicit hydrogens in mol2 file but needed for formal charge estimation.\n",
      " 41%|███████████████████████████████████████████████████▋                                                                         | 219/530.0 [32:24<39:26,  7.61s/it][14:21:29] *****: Warning - no explicit hydrogens in mol2 file but needed for formal charge estimation.\n",
      " 43%|█████████████████████████████████████████████████████▊                                                                       | 228/530.0 [33:36<39:30,  7.85s/it][14:22:41] *****: Warning - no explicit hydrogens in mol2 file but needed for formal charge estimation.\n",
      " 44%|███████████████████████████████████████████████████████▍                                                                     | 235/530.0 [34:30<41:27,  8.43s/it]ERROR:SminaDockingPersistenceHandler:Batch 235 encountered error: Bad Conformer Id\n",
      " 45%|████████████████████████████████████████████████████████▌                                                                    | 240/530.0 [35:24<44:36,  9.23s/it]ERROR:SminaDockingPersistenceHandler:Batch 240 encountered error: Bad Conformer Id\n",
      " 47%|██████████████████████████████████████████████████████████▎                                                                  | 247/530.0 [36:51<48:24, 10.26s/it][14:26:21] *****: Warning - no explicit hydrogens in mol2 file but needed for formal charge estimation.\n",
      " 47%|█████████████████████████████████████████████████████████▊                                                                 | 249/530.0 [37:28<1:03:02, 13.46s/it][14:26:32] *****: Warning - no explicit hydrogens in mol2 file but needed for formal charge estimation.\n",
      " 47%|███████████████████████████████████████████████████████████▏                                                                 | 251/530.0 [37:46<54:18, 11.68s/it][14:26:51] *****: Warning - no explicit hydrogens in mol2 file but needed for formal charge estimation.\n",
      " 48%|███████████████████████████████████████████████████████████▉                                                                 | 254/530.0 [38:01<33:15,  7.23s/it][14:27:08] *****: Warning - no explicit hydrogens in mol2 file but needed for formal charge estimation.\n",
      " 48%|████████████████████████████████████████████████████████████▍                                                                | 256/530.0 [38:16<34:17,  7.51s/it][14:27:25] *****: Warning - no explicit hydrogens in mol2 file but needed for formal charge estimation.\n",
      " 49%|█████████████████████████████████████████████████████████████▌                                                               | 261/530.0 [39:01<44:38,  9.96s/it]ERROR:SminaDockingPersistenceHandler:Batch 261 encountered error: Bad Conformer Id\n",
      " 50%|█████████████████████████████████████████████████████████████                                                              | 263/530.0 [39:59<1:18:03, 17.54s/it][14:29:00] UFFTYPER: Unrecognized charge state for atom: 20\n",
      " 51%|███████████████████████████████████████████████████████████████▋                                                             | 270/530.0 [40:55<41:28,  9.57s/it][14:29:59] *****: Warning - no explicit hydrogens in mol2 file but needed for formal charge estimation.\n",
      " 51%|███████████████████████████████████████████████████████████████▉                                                             | 271/530.0 [40:59<33:49,  7.83s/it]ERROR:SminaDockingPersistenceHandler:Batch 271 encountered error: Bad Conformer Id\n",
      " 51%|████████████████████████████████████████████████████████████████▏                                                            | 272/530.0 [41:20<49:51, 11.60s/it]ERROR:SminaDockingPersistenceHandler:Batch 272 encountered error: Bad Conformer Id\n",
      " 52%|█████████████████████████████████████████████████████████████████                                                            | 276/530.0 [42:12<53:02, 12.53s/it]ERROR:SminaDockingPersistenceHandler:Batch 276 encountered error: Bad Conformer Id\n",
      " 54%|███████████████████████████████████████████████████████████████████▋                                                         | 287/530.0 [43:37<29:43,  7.34s/it][14:32:41] *****: Warning - no explicit hydrogens in mol2 file but needed for formal charge estimation.\n",
      " 54%|███████████████████████████████████████████████████████████████████▉                                                         | 288/530.0 [43:41<25:18,  6.27s/it][14:32:41] UFFTYPER: Unrecognized atom type: S_6+6 (9)\n",
      "[14:32:49] *****: warning - aromatic N with 3 aromatic bonds - skipping charge guess for this atom\n",
      " 55%|█████████████████████████████████████████████████████████████████████▎                                                       | 294/530.0 [44:27<29:02,  7.38s/it]ERROR:SminaDockingPersistenceHandler:Batch 294 encountered error: Bad Conformer Id\n",
      " 56%|██████████████████████████████████████████████████████████████████████▎                                                      | 298/530.0 [45:26<38:22,  9.93s/it]ERROR:SminaDockingPersistenceHandler:Batch 298 encountered error: Bad Conformer Id\n",
      " 56%|██████████████████████████████████████████████████████████████████████▌                                                      | 299/530.0 [45:34<36:19,  9.43s/it]ERROR:SminaDockingPersistenceHandler:Batch 299 encountered error: Bad Conformer Id\n",
      " 57%|██████████████████████████████████████████████████████████████████████▊                                                      | 300/530.0 [45:43<35:29,  9.26s/it]ERROR:SminaDockingPersistenceHandler:Batch 300 encountered error: Bad Conformer Id\n",
      " 58%|███████████████████████████████████████████████████████████████████████▉                                                     | 305/530.0 [46:41<42:29, 11.33s/it]ERROR:SminaDockingPersistenceHandler:Batch 305 encountered error: Bad Conformer Id\n",
      " 61%|███████████████████████████████████████████████████████████████████████████▋                                                 | 321/530.0 [48:59<24:53,  7.15s/it][14:38:22] *****: Warning - no explicit hydrogens in mol2 file but needed for formal charge estimation.\n",
      " 63%|███████████████████████████████████████████████████████████████████████████████                                              | 335/530.0 [51:51<31:26,  9.67s/it]ERROR:SminaDockingPersistenceHandler:Batch 335 encountered error: Bad Conformer Id\n",
      " 63%|███████████████████████████████████████████████████████████████████████████████▏                                             | 336/530.0 [52:06<36:17, 11.22s/it]ERROR:SminaDockingPersistenceHandler:Batch 336 encountered error: Bad Conformer Id\n",
      " 64%|███████████████████████████████████████████████████████████████████████████████▍                                             | 337/530.0 [52:21<40:04, 12.46s/it]ERROR:SminaDockingPersistenceHandler:Batch 337 encountered error: Bad Conformer Id\n"
     ]
    },
    {
     "name": "stderr",
     "output_type": "stream",
     "text": [
      " 65%|█████████████████████████████████████████████████████████████████████████████████▏                                           | 344/530.0 [53:15<27:18,  8.81s/it][14:42:27] *****: Warning - no explicit hydrogens in mol2 file but needed for formal charge estimation.\n",
      " 67%|████████████████████████████████████████████████████████████████████████████████▍                                       | 355/530.0 [1:02:42<5:18:37, 109.25s/it]ERROR:SminaDockingPersistenceHandler:Batch 355 encountered error: Bad Conformer Id\n",
      " 67%|█████████████████████████████████████████████████████████████████████████████████▎                                       | 356/530.0 [1:02:55<3:52:33, 80.19s/it]ERROR:SminaDockingPersistenceHandler:Batch 356 encountered error: Bad Conformer Id\n",
      " 68%|█████████████████████████████████████████████████████████████████████████████████▉                                       | 359/530.0 [1:03:31<1:38:13, 34.47s/it][14:52:39] *****: Warning - no explicit hydrogens in mol2 file but needed for formal charge estimation.\n",
      " 70%|██████████████████████████████████████████████████████████████████████████████████████▎                                    | 372/530.0 [1:05:11<21:53,  8.31s/it][14:54:15] *****: Warning - no explicit hydrogens in mol2 file but needed for formal charge estimation.\n",
      " 73%|█████████████████████████████████████████████████████████████████████████████████████████▌                                 | 386/530.0 [1:06:42<17:45,  7.40s/it]ERROR:SminaDockingPersistenceHandler:Batch 386 encountered error: Bad Conformer Id\n",
      " 73%|██████████████████████████████████████████████████████████████████████████████████████████                                 | 388/530.0 [1:06:59<19:08,  8.09s/it]ERROR:SminaDockingPersistenceHandler:Batch 388 encountered error: Bad Conformer Id\n",
      " 74%|██████████████████████████████████████████████████████████████████████████████████████████▌                                | 390/530.0 [1:07:17<20:00,  8.58s/it][14:56:25] *****: Warning - no explicit hydrogens in mol2 file but needed for formal charge estimation.\n",
      " 75%|███████████████████████████████████████████████████████████████████████████████████████████▋                               | 395/530.0 [1:07:49<15:46,  7.01s/it]ERROR:SminaDockingPersistenceHandler:Batch 395 encountered error: Bad Conformer Id\n",
      " 75%|███████████████████████████████████████████████████████████████████████████████████████████▉                               | 396/530.0 [1:08:03<20:11,  9.04s/it]ERROR:SminaDockingPersistenceHandler:Batch 396 encountered error: Bad Conformer Id\n",
      " 75%|████████████████████████████████████████████████████████████████████████████████████████████▎                              | 398/530.0 [1:08:27<22:31, 10.24s/it]ERROR:SminaDockingPersistenceHandler:Batch 398 encountered error: Bad Conformer Id\n",
      " 78%|████████████████████████████████████████████████████████████████████████████████████████████████                           | 414/530.0 [1:10:35<13:47,  7.13s/it][14:59:46] *****: Warning - no explicit hydrogens in mol2 file but needed for formal charge estimation.\n",
      " 78%|████████████████████████████████████████████████████████████████████████████████████████████████▌                          | 416/530.0 [1:11:00<18:58,  9.99s/it][15:00:04] *****: Warning - no explicit hydrogens in mol2 file but needed for formal charge estimation.\n",
      " 81%|████████████████████████████████████████████████████████████████████████████████████████████████████                       | 431/530.0 [1:17:22<32:06, 19.46s/it][15:06:59] *****: Warning - no explicit hydrogens in mol2 file but needed for formal charge estimation.\n",
      "[15:06:59] *****: warning - aromatic N with 3 aromatic bonds - skipping charge guess for this atom\n",
      " 82%|████████████████████████████████████████████████████████████████████████████████████████████████████▍                      | 433/530.0 [1:18:08<32:16, 19.96s/it][15:07:08] UFFTYPER: Unrecognized charge state for atom: 20\n",
      " 82%|█████████████████████████████████████████████████████████████████████████████████████████████████████▍                     | 437/530.0 [1:19:00<21:34, 13.91s/it][15:08:12] *****: Warning - no explicit hydrogens in mol2 file but needed for formal charge estimation.\n",
      " 83%|█████████████████████████████████████████████████████████████████████████████████████████████████████▋                     | 438/530.0 [1:19:12<20:31, 13.38s/it][15:08:38] *****: Warning - no explicit hydrogens in mol2 file but needed for formal charge estimation.\n",
      "[15:08:38] *****: warning - aromatic N with 3 aromatic bonds - skipping charge guess for this atom\n",
      " 83%|██████████████████████████████████████████████████████████████████████████████████████████████████████▎                    | 441/530.0 [1:20:13<25:54, 17.46s/it][15:09:19] *****: Warning - no explicit hydrogens in mol2 file but needed for formal charge estimation.\n",
      " 83%|██████████████████████████████████████████████████████████████████████████████████████████████████████▌                    | 442/530.0 [1:20:19<20:40, 14.09s/it]ERROR:SminaDockingPersistenceHandler:Batch 442 encountered error: Bad Conformer Id\n",
      " 84%|███████████████████████████████████████████████████████████████████████████████████████████████████████▋                   | 447/530.0 [1:21:24<13:50, 10.00s/it][15:10:31] *****: Warning - no explicit hydrogens in mol2 file but needed for formal charge estimation.\n",
      " 85%|███████████████████████████████████████████████████████████████████████████████████████████████████████▉                   | 448/530.0 [1:21:30<12:22,  9.05s/it][15:10:35] *****: Warning - no explicit hydrogens in mol2 file but needed for formal charge estimation.\n",
      " 86%|█████████████████████████████████████████████████████████████████████████████████████████████████████████▌                 | 455/530.0 [1:25:34<34:07, 27.30s/it][15:14:36] *****: Warning - no explicit hydrogens in mol2 file but needed for formal charge estimation.\n",
      " 86%|██████████████████████████████████████████████████████████████████████████████████████████████████████████▎                | 458/530.0 [1:25:53<16:50, 14.03s/it][15:15:02] *****: Warning - no explicit hydrogens in mol2 file but needed for formal charge estimation.\n",
      " 87%|██████████████████████████████████████████████████████████████████████████████████████████████████████████▌                | 459/530.0 [1:26:02<14:49, 12.53s/it][15:15:20] *****: Warning - no explicit hydrogens in mol2 file but needed for formal charge estimation.\n",
      " 88%|███████████████████████████████████████████████████████████████████████████████████████████████████████████▉               | 465/530.0 [1:27:38<17:06, 15.79s/it][15:16:47] *****: Warning - no explicit hydrogens in mol2 file but needed for formal charge estimation.\n",
      " 89%|█████████████████████████████████████████████████████████████████████████████████████████████████████████████▎             | 471/530.0 [1:28:38<10:29, 10.67s/it][15:17:45] *****: Warning - no explicit hydrogens in mol2 file but needed for formal charge estimation.\n",
      " 89%|█████████████████████████████████████████████████████████████████████████████████████████████████████████████▌             | 472/530.0 [1:28:45<09:18,  9.63s/it][15:17:51] *****: Warning - no explicit hydrogens in mol2 file but needed for formal charge estimation.\n",
      " 89%|█████████████████████████████████████████████████████████████████████████████████████████████████████████████▊             | 473/530.0 [1:28:51<08:15,  8.69s/it]ERROR:SminaDockingPersistenceHandler:Batch 473 encountered error: Bad Conformer Id\n",
      " 90%|██████████████████████████████████████████████████████████████████████████████████████████████████████████████▍            | 476/530.0 [1:29:43<11:54, 13.24s/it]ERROR:SminaDockingPersistenceHandler:Batch 476 encountered error: Bad Conformer Id\n",
      " 92%|█████████████████████████████████████████████████████████████████████████████████████████████████████████████████▋         | 490/530.0 [1:31:29<05:01,  7.54s/it]ERROR:SminaDockingPersistenceHandler:Batch 490 encountered error: Bad Conformer Id\n",
      " 93%|██████████████████████████████████████████████████████████████████████████████████████████████████████████████████▋        | 494/530.0 [1:32:04<05:23,  8.99s/it]ERROR:SminaDockingPersistenceHandler:Batch 494 encountered error: Bad Conformer Id\n"
     ]
    },
    {
     "name": "stderr",
     "output_type": "stream",
     "text": [
      " 95%|████████████████████████████████████████████████████████████████████████████████████████████████████████████████████▉      | 504/530.0 [1:33:46<03:28,  8.03s/it][15:22:57] *****: Warning - no explicit hydrogens in mol2 file but needed for formal charge estimation.\n",
      " 98%|████████████████████████████████████████████████████████████████████████████████████████████████████████████████████████▍  | 519/530.0 [1:36:08<01:49,  9.95s/it][15:25:08] UFFTYPER: Unrecognized atom type: S_6+6 (9)\n",
      "[15:25:18] *****: warning - aromatic N with 3 aromatic bonds - skipping charge guess for this atom\n",
      " 99%|██████████████████████████████████████████████████████████████████████████████████████████████████████████████████████████▎| 527/530.0 [1:40:21<01:41, 33.88s/it]ERROR:SminaDockingPersistenceHandler:Batch 527 encountered error: Bad Conformer Id\n",
      "100%|██████████████████████████████████████████████████████████████████████████████████████████████████████████████████████████▊| 529/530.0 [1:40:58<00:11, 11.45s/it]\n"
     ]
    }
   ],
   "source": [
    "sdf_file = pathlib.Path(\"../molecules/human_serum_albumin_CHEMBL_data.sdf\")\n",
    "protein_pdb_file = pathlib.Path(\"../molecules/4la0_human_serum_albumin_cleaned_without_ligand.pdb\")\n",
    "docked_ligands_target_directory = pathlib.Path(\"../molecules/albumin_bis\")\n",
    "\n",
    "config = SminaConfig(\n",
    "    center_x=-17.654, center_y=-13.090, center_z=10.471, size_x=30, size_y=30, size_z=30, exhaustiveness=6,\n",
    ")\n",
    "persistent_docking_handler = SminaDockingPersistenceHandler.create(\n",
    "    smina_config=config,\n",
    "    docked_ligands_target_directory=str(docked_ligands_target_directory),\n",
    "    logging_level=logging.INFO,\n",
    ")\n",
    "fingerprint_featurizer = DockedProlifFingerprintFeaturizer.create(\n",
    "    logging_level=logging.INFO,\n",
    ")\n",
    "docking_score_featurizer = SminaDockingScoreFeaturizer(logging.INFO)\n",
    "\n",
    "# persistent_docking_handler.dock(protein_pdb_file, sdf_file, starting_batch=1, batch_size=1)"
   ]
  },
  {
   "cell_type": "markdown",
   "id": "29c146ed",
   "metadata": {},
   "source": [
    "## Transformacja nr 0 (opcjonalna) - dodaj MACCS"
   ]
  },
  {
   "cell_type": "code",
   "execution_count": 5,
   "id": "111a71f4",
   "metadata": {},
   "outputs": [],
   "source": [
    "def get_input_data(include_maccs=False):\n",
    "    fingerprint_featurizer.fit(protein_pdb_file, docked_ligands_target_directory)\n",
    "    X, y = fingerprint_featurizer.transform(protein_pdb_file, docked_ligands_target_directory)\n",
    "    if include_maccs:\n",
    "        # sdf_reader = Chem.rdmolfiles.SDMolSupplier(str(sdf_file))\n",
    "        reader = ChemblSdfReader()\n",
    "        molecules = reader.parse(sdf_file)\n",
    "        maccs = []\n",
    "        cnt = 0\n",
    "        labels_csv = os.path.join(docked_ligands_target_directory, 'labels.csv')\n",
    "        with open(labels_csv, 'r') as file:\n",
    "            for result_id, score, label, cdId in csv.reader(file):\n",
    "                number = int(cdId[1:-1])\n",
    "                while molecules[cnt]['cdId'] != number:\n",
    "                    cnt += 1\n",
    "                mol = Chem.rdmolfiles.MolFromMolBlock(molecules[cnt]['mol'])\n",
    "                fp = MACCSkeys.GenMACCSKeys(mol).ToBitString()\n",
    "                maccs.append(MACCSkeys.GenMACCSKeys(mol))\n",
    "                cnt += 1\n",
    "        maccs_x = np.array(maccs, dtype='i')\n",
    "        print(f'maccs.shape = {maccs_x.shape}')\n",
    "        X = np.concatenate((X, maccs_x), axis=1)\n",
    "    return X, y"
   ]
  },
  {
   "cell_type": "code",
   "execution_count": 23,
   "id": "9aefe51d",
   "metadata": {
    "scrolled": false
   },
   "outputs": [
    {
     "data": {
      "application/vnd.jupyter.widget-view+json": {
       "model_id": "de885dce24b043d586b57b7a6fc34320",
       "version_major": 2,
       "version_minor": 0
      },
      "text/plain": [
       "  0%|          | 0/493 [00:00<?, ?it/s]"
      ]
     },
     "metadata": {},
     "output_type": "display_data"
    },
    {
     "data": {
      "application/vnd.jupyter.widget-view+json": {
       "model_id": "583569488e6f4496beaf0f78cfef1e49",
       "version_major": 2,
       "version_minor": 0
      },
      "text/plain": [
       "  0%|          | 0/493 [00:00<?, ?it/s]"
      ]
     },
     "metadata": {},
     "output_type": "display_data"
    },
    {
     "name": "stdout",
     "output_type": "stream",
     "text": [
      "input shape: (493, 153)\n"
     ]
    }
   ],
   "source": [
    "X, Y = get_input_data(include_maccs=False)\n",
    "print(f'input shape: {X.shape}')"
   ]
  },
  {
   "cell_type": "markdown",
   "id": "c733be51",
   "metadata": {},
   "source": [
    "## Transformacja nr 1 - przekształć y na skalę logarytmiczną"
   ]
  },
  {
   "cell_type": "code",
   "execution_count": 8,
   "id": "c4efffa1",
   "metadata": {},
   "outputs": [
    {
     "data": {
      "image/png": "[encoded data removed]",
      "text/plain": [
       "<Figure size 640x480 with 1 Axes>"
      ]
     },
     "metadata": {},
     "output_type": "display_data"
    }
   ],
   "source": [
    "dataset_siz = X.shape[0]\n",
    "y = np.array(Y, dtype='f')\n",
    "y = np.log10(100.1 - y)\n",
    "count, bins, _ = plt.hist(y, bins=50)\n",
    "plt.show()"
   ]
  },
  {
   "cell_type": "markdown",
   "id": "75340cb7",
   "metadata": {},
   "source": [
    "Czy liczba zapalonych bitów fingerprintu koreluje z docking score? Chyba tak"
   ]
  },
  {
   "cell_type": "markdown",
   "id": "77627fa4",
   "metadata": {},
   "source": [
    "## Transformacja nr 2 \n",
    "### usuń punkty, dla których docking score jest niespodziewanie mały"
   ]
  },
  {
   "cell_type": "code",
   "execution_count": 9,
   "id": "7083c64d",
   "metadata": {},
   "outputs": [
    {
     "name": "stdout",
     "output_type": "stream",
     "text": [
      "(493, 320)\n",
      "new shape: (493, 320)\n"
     ]
    },
    {
     "data": {
      "image/png": "[encoded data removed]",
      "text/plain": [
       "<Figure size 640x480 with 1 Axes>"
      ]
     },
     "metadata": {},
     "output_type": "display_data"
    }
   ],
   "source": [
    "print(X.shape)\n",
    "good_indices = np.argwhere(X[:, 0] < -2).flatten()\n",
    "X = X[good_indices, :]\n",
    "y = y[good_indices]\n",
    "print(f'new shape: {X.shape}')\n",
    "A = np.sum(X[:, 1:], axis=1)\n",
    "plt.scatter(y, X[:, 0])\n",
    "plt.show()"
   ]
  },
  {
   "cell_type": "markdown",
   "id": "8ad7b332",
   "metadata": {},
   "source": [
    "## Transformacja nr 3 (opcjonalna)\n",
    "### usuń bity, które są zapalone tylko dla kilku (<CUTOFF_THRESHOLD) ligandów"
   ]
  },
  {
   "cell_type": "code",
   "execution_count": 12,
   "id": "5feb742e",
   "metadata": {},
   "outputs": [
    {
     "name": "stdout",
     "output_type": "stream",
     "text": [
      "(493, 192)\n"
     ]
    }
   ],
   "source": [
    "def truncate(X, Y, CUTOFF_THRESHOLD=20):\n",
    "    sums = np.sum(X, axis=0)\n",
    "    good_idces = np.argwhere(sums > CUTOFF_THRESHOLD).flatten()\n",
    "    X_trunc = X[:, good_idces]\n",
    "    return X_trunc, Y\n",
    "\n",
    "X_trunc, y_trunc = truncate(X, y, 5)\n",
    "print(X_trunc.shape)"
   ]
  },
  {
   "cell_type": "markdown",
   "id": "1c713b2b",
   "metadata": {},
   "source": [
    "## Transformacja nr 4 (opcjonalna)\n",
    "### usuń część danych tak aby rozkład danych bardziej przypominał rozkład normalny"
   ]
  },
  {
   "cell_type": "code",
   "execution_count": 17,
   "id": "6c982b6a",
   "metadata": {},
   "outputs": [
    {
     "name": "stdout",
     "output_type": "stream",
     "text": [
      "(493, 192)\n",
      "(493,)\n"
     ]
    },
    {
     "data": {
      "image/png": "[encoded data removed]",
      "text/plain": [
       "<Figure size 640x480 with 1 Axes>"
      ]
     },
     "metadata": {},
     "output_type": "display_data"
    }
   ],
   "source": [
    "def pseudonormalize(X, Y, THRESHOLD=100):\n",
    "    n_bins = 50\n",
    "    y_min = np.min(Y)\n",
    "    y_max = np.max(Y) + 0.0001\n",
    "    limits = []\n",
    "\n",
    "    good_indices = []\n",
    "    for i in range(51):\n",
    "        limits.append(y_min + (i * (y_max - y_min) / n_bins))\n",
    "    for i in range(50):\n",
    "        bin_indices = np.argwhere(np.logical_and(Y >= limits[i], Y < limits[i+1])).flatten()\n",
    "        if len(list(bin_indices)) > THRESHOLD:\n",
    "            bin_indices = bin_indices[:THRESHOLD]\n",
    "        good_indices = good_indices + list(bin_indices)\n",
    "    tX = X[good_indices]\n",
    "    tY = Y[good_indices]\n",
    "\n",
    "    print(tX.shape)\n",
    "    print(tY.shape)\n",
    "    count, bins, _ = plt.hist(tY, bins=50)\n",
    "    plt.show()\n",
    "    return tX, tY\n",
    "\n",
    "X_norm, y_norm = pseudonormalize(X_trunc, y_trunc, 100)"
   ]
  },
  {
   "cell_type": "markdown",
   "id": "84068b5f",
   "metadata": {},
   "source": [
    "# Porównanie różnych modeli regresji"
   ]
  },
  {
   "cell_type": "code",
   "execution_count": 18,
   "id": "9236dc2c",
   "metadata": {},
   "outputs": [],
   "source": [
    "rmse = Evaluator(name = 'RMSE')\n",
    "mae = Evaluator(name = 'MAE')\n",
    "r_squared = Evaluator(name = 'R2')"
   ]
  },
  {
   "cell_type": "code",
   "execution_count": 19,
   "id": "012d7665",
   "metadata": {},
   "outputs": [],
   "source": [
    "\"\"\"\n",
    "uses 5-cross validation to estimate model\n",
    "\"\"\"\n",
    "def evaluate_regression_model(model, X, y):\n",
    "    scoring = ['neg_mean_absolute_error', 'r2']\n",
    "    results = cross_validate(estimator=model, X=X, y=y, cv=5, scoring=scoring)\n",
    "    return np.mean(results['test_r2']) + np.mean(results['test_neg_mean_absolute_error'])\n",
    "\n",
    "def test_regression_model(model, x_train, x_test, y_train, y_test):\n",
    "    model.fit(x_train, y_train)\n",
    "\n",
    "    fig, ax = plt.subplots()\n",
    "    ax.axline((0, 0), slope=1)\n",
    "    \n",
    "    predictions = model.predict(x_train)  \n",
    "    rmse_score = rmse(y_train, predictions)\n",
    "    mae_score = mae(y_train, predictions)\n",
    "    r2_score = r_squared(y_train, predictions)\n",
    "    print(f'on train set: RMSE, MAE, R2 = {rmse_score}, {mae_score}, {r2_score}')\n",
    "    plt.scatter(y_train, predictions)\n",
    "\n",
    "    predictions = model.predict(x_test) \n",
    "    rmse_score = rmse(y_test, predictions)\n",
    "    mae_score = mae(y_test, predictions)\n",
    "    r2_score = r_squared(y_test, predictions)\n",
    "    print(f'on test set: RMSE, MAE, R2 = {rmse_score}, {mae_score}, {r2_score}')\n",
    "    plt.scatter(y_test, predictions)\n",
    "    plt.show()"
   ]
  },
  {
   "cell_type": "code",
   "execution_count": 20,
   "id": "77260bcd",
   "metadata": {},
   "outputs": [],
   "source": [
    "from sklearn.ensemble import RandomForestRegressor\n",
    "from sklearn.neural_network import MLPRegressor\n",
    "from sklearn.linear_model import LinearRegression, Ridge\n",
    "\n",
    "# you can try multiple configurations\n",
    "regression_model_list = [\n",
    "    (RandomForestRegressor, {\n",
    "        'n_estimators': [300, 500, 800], \n",
    "        'min_samples_leaf': [2, 4, 8], \n",
    "        'max_features': ['log2', 'sqrt', None]\n",
    "    }),\n",
    "    (MLPRegressor, {\n",
    "        'hidden_layer_sizes': [(100,), (300,), (256, 128), (128, 64, 32), (100, 100)], \n",
    "        'activation': ['logistic', 'tanh', 'relu'],\n",
    "        'early_stopping': [True, False]\n",
    "    }),\n",
    "    (Ridge, {\n",
    "        'alpha': [0.0001, 0.0003, 0.001, 0.003, 0.01, 0.03, 0.1, 0.3, 1.0, 3.0]\n",
    "    }),\n",
    "]"
   ]
  },
  {
   "cell_type": "code",
   "execution_count": 21,
   "id": "b0173a63",
   "metadata": {},
   "outputs": [
    {
     "name": "stderr",
     "output_type": "stream",
     "text": [
      "27it [01:40,  3.74s/it]\n"
     ]
    },
    {
     "name": "stdout",
     "output_type": "stream",
     "text": [
      "done with <class 'sklearn.ensemble._forest.RandomForestRegressor'>\n"
     ]
    },
    {
     "name": "stderr",
     "output_type": "stream",
     "text": [
      "30it [01:01,  2.04s/it]\n"
     ]
    },
    {
     "name": "stdout",
     "output_type": "stream",
     "text": [
      "done with <class 'sklearn.neural_network._multilayer_perceptron.MLPRegressor'>\n"
     ]
    },
    {
     "name": "stderr",
     "output_type": "stream",
     "text": [
      "10it [00:00, 82.46it/s]"
     ]
    },
    {
     "name": "stdout",
     "output_type": "stream",
     "text": [
      "done with <class 'sklearn.linear_model._ridge.Ridge'>\n",
      "best_model_type = <class 'sklearn.ensemble._forest.RandomForestRegressor'>, best_params = {'n_estimators': 300, 'min_samples_leaf': 2, 'max_features': None}, best_score = -0.12444657370092954\n"
     ]
    },
    {
     "name": "stderr",
     "output_type": "stream",
     "text": [
      "\n"
     ]
    }
   ],
   "source": [
    "def my_product(inp):\n",
    "    return (dict(zip(inp.keys(), values)) for values in itertools.product(*inp.values()))\n",
    "\n",
    "scores = []\n",
    "best_score = -10.0\n",
    "best_params = ()\n",
    "best_model_type = None\n",
    "\n",
    "x_train, x_test, y_train, y_test = train_test_split(X_norm, y_norm, test_size=0.2)\n",
    "\n",
    "for model_type in regression_model_list:\n",
    "    for params in tqdm(my_product(model_type[1])):\n",
    "        model = model_type[0](**params)\n",
    "        score = evaluate_regression_model(model, x_train, y_train)\n",
    "        scores.append(score)\n",
    "        if score > best_score:\n",
    "            best_score = score\n",
    "            best_model_type = model_type[0]\n",
    "            best_params = params\n",
    "    print(f'done with {model_type[0]}')\n",
    "print(f'best_model_type = {best_model_type}, best_params = {best_params}, best_score = {best_score}')"
   ]
  },
  {
   "cell_type": "code",
   "execution_count": 22,
   "id": "cbea6bc7",
   "metadata": {},
   "outputs": [
    {
     "name": "stdout",
     "output_type": "stream",
     "text": [
      "best_model_type = <class 'sklearn.ensemble._forest.RandomForestRegressor'>, best_params = {'n_estimators': 300, 'min_samples_leaf': 2, 'max_features': None}, best_score = -0.12444657370092954\n",
      "on train set: RMSE, MAE, R2 = 0.27076331695692235, 0.18796717626890483, 0.833270607222141\n",
      "on test set: RMSE, MAE, R2 = 0.558202954451963, 0.4063221024557748, 0.3614645318409363\n"
     ]
    },
    {
     "data": {
      "image/png": "[encoded data removed]",
      "text/plain": [
       "<Figure size 640x480 with 1 Axes>"
      ]
     },
     "metadata": {},
     "output_type": "display_data"
    }
   ],
   "source": [
    "print(f'best_model_type = {best_model_type}, best_params = {best_params}, best_score = {best_score}')\n",
    "model = best_model_type(**best_params)\n",
    "test_regression_model(model, x_train, x_test, y_train, y_test)"
   ]
  },
  {
   "cell_type": "markdown",
   "id": "7b8cccb7",
   "metadata": {},
   "source": [
    "## Variable importance"
   ]
  },
  {
   "cell_type": "code",
   "execution_count": 24,
   "id": "40e8651c",
   "metadata": {},
   "outputs": [
    {
     "name": "stdout",
     "output_type": "stream",
     "text": [
      "max contribution: 0.037498949451763526, min contribution: 3.1263732505746925e-05\n",
      "the docking score parameter contributed 0.001078445487610113\n",
      "on average, a SIFT parameter contributed 0.0034352134388259303\n",
      "on average, a MACCS parameter contributed 0.005014769598129168\n"
     ]
    },
    {
     "data": {
      "image/png": "[encoded data removed]",
      "text/plain": [
       "<Figure size 640x480 with 1 Axes>"
      ]
     },
     "metadata": {},
     "output_type": "display_data"
    }
   ],
   "source": [
    "np.set_printoptions(precision=4, suppress=True)\n",
    "importance = model.feature_importances_\n",
    "importance_sift = importance[1:-167]\n",
    "sum_sift = np.sum(X_norm[:, 1:-167], axis=0)\n",
    "plt.scatter(importance_sift, sum_sift)\n",
    "print(f'max contribution: {np.max(importance)}, min contribution: {np.min(importance)}')\n",
    "print(f'the docking score parameter contributed {importance[0]}')\n",
    "print(f'on average, a SIFT parameter contributed {np.mean(importance_sift)}')\n",
    "print(f'on average, a MACCS parameter contributed {np.mean(importance[-167:])}')\n",
    "plt.show()"
   ]
  },
  {
   "cell_type": "markdown",
   "id": "01eb505c",
   "metadata": {},
   "source": [
    "# Porównanie modeli klasyfikacji binarnej"
   ]
  },
  {
   "cell_type": "code",
   "execution_count": 24,
   "id": "bca9bf07",
   "metadata": {},
   "outputs": [],
   "source": [
    "def get_binary_classification_data(X, y, threshold = 0.8):\n",
    "    high_pic50 = np.argwhere(y > threshold).flatten()\n",
    "    yb = np.zeros(y.shape)\n",
    "    yb[high_pic50] = 1.0\n",
    "    yb = np.array(yb, dtype='i')\n",
    "    print(f'fraction of 1\\'s: {sum(yb) / len(yb)}')\n",
    "    return X, yb"
   ]
  },
  {
   "cell_type": "code",
   "execution_count": 25,
   "id": "9dcc2b37",
   "metadata": {},
   "outputs": [],
   "source": [
    "acc = Evaluator(name = 'Accuracy')\n",
    "prec = Evaluator(name = 'Precision')\n",
    "recall = Evaluator(name = 'Recall')\n",
    "\n",
    "def evaluate_classification_model(model, X, yb):\n",
    "    scoring = ['accuracy', 'precision', 'recall']\n",
    "    results = cross_validate(estimator=model, X=X, y=yb, cv=5, scoring=scoring)\n",
    "    return np.mean(results['test_accuracy']) + 3 * np.mean(results['test_precision']) + 5 * np.mean(results['test_recall'])\n",
    "\n",
    "\n",
    "def test_classification_model(model, xb_train, xb_test, yb_train, yb_test):\n",
    "    model.fit(xb_train, yb_train)\n",
    "\n",
    "    predictions = model.predict(xb_train)  \n",
    "    print(predictions[:30])\n",
    "    print(yb_train[:30])\n",
    "    acc_score = acc(yb_train, predictions)\n",
    "    prec_score = prec(yb_train, predictions)\n",
    "    recall_score = recall(yb_train, predictions)\n",
    "    print(f'on train set: Accuracy, Precision, Recall = {acc_score}, {prec_score}, {recall_score}')\n",
    "\n",
    "    predictions = model.predict(xb_test) \n",
    "    print(predictions[:30])\n",
    "    print(yb_test[:30])\n",
    "    acc_score = acc(yb_test, predictions)\n",
    "    prec_score = prec(yb_test, predictions)\n",
    "    recall_score = recall(yb_test, predictions)\n",
    "    print(f'on test set: Accuracy, Precision, Recall = {acc_score}, {prec_score}, {recall_score}')"
   ]
  },
  {
   "cell_type": "code",
   "execution_count": 26,
   "id": "af7fa6d3",
   "metadata": {},
   "outputs": [],
   "source": [
    "from sklearn.ensemble import RandomForestClassifier, AdaBoostClassifier\n",
    "from sklearn.linear_model import LogisticRegression\n",
    "from sklearn.neural_network import MLPClassifier\n",
    "from sklearn.svm import SVC\n",
    "\n",
    "classification_model_list = [\n",
    "    (RandomForestClassifier, {}),\n",
    "    (AdaBoostClassifier,     {'n_estimators': [15, 31, 61]}),\n",
    "    # (SVC,                    {'kernel': ['linear', 'poly', 'rbf', 'sigmoid'], 'C': [0.3, 1.0, 3.0]}),\n",
    "    (SVC,                    {'kernel': ['poly', 'sigmoid'], 'C': [0.3, 1.0, 3.0]}),\n",
    "    (MLPClassifier,          {'hidden_layer_sizes': [80, 50], 'alpha': [0.3, 1.0, 3.0]}),\n",
    "    (LogisticRegression,     {'penalty': ['l1', 'l2'], 'C': [0.1, 0.3], 'solver': ['liblinear']}),\n",
    "]"
   ]
  },
  {
   "cell_type": "code",
   "execution_count": 28,
   "id": "de8b0e15",
   "metadata": {
    "scrolled": true
   },
   "outputs": [
    {
     "name": "stdout",
     "output_type": "stream",
     "text": [
      "fraction of 1's: 0.718052738336714\n",
      "(493, 192)\n",
      "best_model_type = <class 'sklearn.linear_model._logistic.LogisticRegression'>, best_params = (<class 'sklearn.linear_model._logistic.LogisticRegression'>, {'penalty': 'l1', 'C': 0.1, 'solver': 'liblinear'}), best_score = 7.902388474467147\n",
      "fraction of 1's: 0.6693711967545639\n",
      "(493, 192)\n",
      "best_model_type = <class 'sklearn.svm._classes.SVC'>, best_params = (<class 'sklearn.svm._classes.SVC'>, {'kernel': 'sigmoid', 'C': 0.3}), best_score = 7.645260057989937\n",
      "fraction of 1's: 0.5862068965517241\n",
      "(493, 192)\n",
      "best_model_type = <class 'sklearn.svm._classes.SVC'>, best_params = (<class 'sklearn.svm._classes.SVC'>, {'kernel': 'sigmoid', 'C': 0.3}), best_score = 7.105249167836702\n",
      "fraction of 1's: 0.4746450304259635\n",
      "(493, 192)\n",
      "best_model_type = <class 'sklearn.ensemble._weight_boosting.AdaBoostClassifier'>, best_params = (<class 'sklearn.ensemble._weight_boosting.AdaBoostClassifier'>, {'n_estimators': 31}), best_score = 6.261200172815233\n",
      "fraction of 1's: 0.4178498985801217\n",
      "(493, 192)\n",
      "best_model_type = <class 'sklearn.linear_model._logistic.LogisticRegression'>, best_params = (<class 'sklearn.linear_model._logistic.LogisticRegression'>, {'penalty': 'l1', 'C': 0.3, 'solver': 'liblinear'}), best_score = 6.00378373068563\n",
      "fraction of 1's: 0.36105476673427994\n",
      "(493, 192)\n",
      "best_model_type = <class 'sklearn.neural_network._multilayer_perceptron.MLPClassifier'>, best_params = (<class 'sklearn.neural_network._multilayer_perceptron.MLPClassifier'>, {'hidden_layer_sizes': 50, 'alpha': 1.0}), best_score = 5.997333224674997\n"
     ]
    }
   ],
   "source": [
    "def my_product(inp):\n",
    "    return (dict(zip(inp.keys(), values)) for values in itertools.product(*inp.values()))\n",
    "\n",
    "best_params_dict = {}\n",
    "\n",
    "for threshold in [0.6, 0.7, 0.8, 0.9, 1.0, 1.1]:\n",
    "    scores = []\n",
    "    best_score = -10.0\n",
    "    best_params = ()\n",
    "    best_model_type = None\n",
    "    X, yb = get_binary_classification_data(X_norm, y_norm, threshold)\n",
    "    print(X.shape)\n",
    "    xb_train, xb_test, yb_train, yb_test = train_test_split(X, yb, test_size=0.2)\n",
    "\n",
    "    for model_type in classification_model_list:\n",
    "        for params in my_product(model_type[1]):\n",
    "            model = model_type[0](**params)\n",
    "            score = evaluate_classification_model(model, xb_train, yb_train)\n",
    "            scores.append(score)\n",
    "            if score > best_score:\n",
    "                best_score = score\n",
    "                best_model_type = model_type[0]\n",
    "                best_params = (model_type[0], params)\n",
    "    print(f'best_model_type = {best_model_type}, best_params = {best_params}, best_score = {best_score}')\n",
    "    best_params_dict[threshold] = best_params"
   ]
  },
  {
   "cell_type": "code",
   "execution_count": 30,
   "id": "63420325",
   "metadata": {
    "scrolled": true
   },
   "outputs": [
    {
     "name": "stdout",
     "output_type": "stream",
     "text": [
      "{0.6: (<class 'sklearn.linear_model._logistic.LogisticRegression'>, {'penalty': 'l1', 'C': 0.1, 'solver': 'liblinear'}), 0.7: (<class 'sklearn.svm._classes.SVC'>, {'kernel': 'sigmoid', 'C': 0.3}), 0.8: (<class 'sklearn.svm._classes.SVC'>, {'kernel': 'sigmoid', 'C': 0.3}), 0.9: (<class 'sklearn.ensemble._weight_boosting.AdaBoostClassifier'>, {'n_estimators': 31}), 1.0: (<class 'sklearn.linear_model._logistic.LogisticRegression'>, {'penalty': 'l1', 'C': 0.3, 'solver': 'liblinear'}), 1.1: (<class 'sklearn.neural_network._multilayer_perceptron.MLPClassifier'>, {'hidden_layer_sizes': 50, 'alpha': 1.0})}\n",
      "fraction of 1's: 0.718052738336714\n",
      "\n",
      "best_model_type: <class 'sklearn.linear_model._logistic.LogisticRegression'>\n",
      "best params: (<class 'sklearn.linear_model._logistic.LogisticRegression'>, {'penalty': 'l1', 'C': 0.1, 'solver': 'liblinear'})\n",
      "[1 1 1 1 1 1 1 1 1 1 1 1 1 1 1 1 1 1 1 1 1 1 1 1 1 0 1 1 1 1]\n",
      "[1 0 1 0 1 1 1 1 1 0 1 1 1 1 1 0 1 1 0 1 1 0 0 1 1 0 1 1 1 1]\n",
      "on train set: Accuracy, Precision, Recall = 0.7690355329949239, 0.7663043478260869, 0.9825783972125436\n",
      "[1 1 1 1 1 1 0 1 1 1 0 1 1 1 0 1 1 1 1 1 1 1 1 0 1 1 1 0 1 1]\n",
      "[1 1 1 1 1 0 0 1 1 1 0 1 0 1 0 0 1 1 1 0 1 1 1 0 0 1 1 0 0 0]\n",
      "on test set: Accuracy, Precision, Recall = 0.7777777777777778, 0.7586206896551724, 0.9850746268656716\n",
      "fraction of 1's: 0.6693711967545639\n",
      "\n",
      "best_model_type: <class 'sklearn.svm._classes.SVC'>\n",
      "best params: (<class 'sklearn.svm._classes.SVC'>, {'kernel': 'sigmoid', 'C': 0.3})\n",
      "[1 1 1 0 1 1 0 1 1 1 1 1 1 1 1 1 1 1 1 1 1 1 1 1 1 1 1 1 1 1]\n",
      "[0 0 0 0 1 0 0 1 1 1 1 0 1 1 0 1 1 1 0 1 1 1 1 1 0 0 1 0 1 1]\n",
      "on train set: Accuracy, Precision, Recall = 0.6903553299492385, 0.6873315363881402, 0.9770114942528736\n",
      "[1 1 0 1 1 1 0 1 1 0 1 1 1 1 0 1 1 1 1 1 1 1 1 1 1 1 1 1 1 1]\n",
      "[0 1 0 0 0 1 1 1 1 0 1 1 0 1 0 0 1 0 1 0 0 0 1 1 1 0 1 1 1 1]\n",
      "on test set: Accuracy, Precision, Recall = 0.7171717171717171, 0.7204301075268817, 0.9710144927536232\n",
      "fraction of 1's: 0.5862068965517241\n",
      "\n",
      "best_model_type: <class 'sklearn.svm._classes.SVC'>\n",
      "best params: (<class 'sklearn.svm._classes.SVC'>, {'kernel': 'sigmoid', 'C': 0.3})\n",
      "[1 0 1 1 1 0 1 1 1 1 0 1 1 1 1 0 1 1 1 1 1 1 1 1 1 1 1 1 1 0]\n",
      "[0 1 1 1 1 1 0 0 0 0 0 1 1 1 1 1 0 0 0 1 0 1 1 1 1 1 0 0 0 0]\n",
      "on train set: Accuracy, Precision, Recall = 0.649746192893401, 0.6350148367952523, 0.9344978165938864\n",
      "[0 1 1 1 1 0 0 1 0 1 1 0 1 1 1 1 0 1 0 1 1 0 0 1 1 1 1 1 0 1]\n",
      "[0 0 1 1 1 0 0 0 0 1 1 1 1 0 1 1 0 0 1 0 0 1 0 1 1 1 1 0 1 1]\n",
      "on test set: Accuracy, Precision, Recall = 0.6262626262626263, 0.6385542168674698, 0.8833333333333333\n",
      "fraction of 1's: 0.4746450304259635\n",
      "\n",
      "best_model_type: <class 'sklearn.ensemble._weight_boosting.AdaBoostClassifier'>\n",
      "best params: (<class 'sklearn.ensemble._weight_boosting.AdaBoostClassifier'>, {'n_estimators': 31})\n",
      "[0 0 0 0 1 0 1 1 1 1 1 0 1 1 1 0 0 1 1 1 1 0 0 0 0 1 0 1 0 0]\n",
      "[0 0 0 0 1 0 1 0 1 1 1 0 0 1 0 1 0 0 1 1 1 0 1 0 0 0 0 1 0 0]\n",
      "on train set: Accuracy, Precision, Recall = 0.7766497461928934, 0.7626262626262627, 0.7864583333333334\n",
      "[0 0 1 0 0 0 1 1 0 0 1 1 1 0 0 1 0 1 0 0 0 1 0 0 1 1 1 0 0 0]\n",
      "[0 1 1 0 0 0 1 1 0 0 0 1 1 1 0 1 1 1 0 0 0 1 1 1 1 0 0 0 0 0]\n",
      "on test set: Accuracy, Precision, Recall = 0.696969696969697, 0.65, 0.6190476190476191\n",
      "fraction of 1's: 0.4178498985801217\n",
      "\n",
      "best_model_type: <class 'sklearn.linear_model._logistic.LogisticRegression'>\n",
      "best params: (<class 'sklearn.linear_model._logistic.LogisticRegression'>, {'penalty': 'l1', 'C': 0.3, 'solver': 'liblinear'})\n",
      "[0 0 0 0 1 0 0 0 1 0 0 1 1 0 0 0 1 0 0 0 0 0 0 0 0 0 0 0 0 0]\n",
      "[0 0 0 0 0 0 0 0 1 1 0 1 0 0 1 1 1 0 0 1 0 0 0 0 0 1 0 0 0 0]\n",
      "on train set: Accuracy, Precision, Recall = 0.7690355329949239, 0.8050847457627118, 0.5828220858895705\n",
      "[0 0 1 1 0 0 0 0 0 1 0 0 0 1 0 0 0 0 1 0 0 0 0 1 0 1 0 1 0 1]\n",
      "[1 1 0 1 0 0 1 0 0 1 0 0 0 1 0 0 0 0 1 1 1 0 0 1 0 0 0 1 0 1]\n",
      "on test set: Accuracy, Precision, Recall = 0.7575757575757576, 0.7435897435897436, 0.6744186046511628\n",
      "fraction of 1's: 0.36105476673427994\n",
      "\n",
      "best_model_type: <class 'sklearn.neural_network._multilayer_perceptron.MLPClassifier'>\n",
      "best params: (<class 'sklearn.neural_network._multilayer_perceptron.MLPClassifier'>, {'hidden_layer_sizes': 50, 'alpha': 1.0})\n",
      "[0 1 0 1 0 0 0 1 0 0 0 1 1 0 0 0 0 0 0 0 1 0 0 1 1 0 0 0 0 0]\n",
      "[0 1 0 1 0 0 0 1 0 0 0 1 1 0 0 0 0 0 0 0 1 0 0 1 1 0 0 0 0 0]\n",
      "on train set: Accuracy, Precision, Recall = 0.9720812182741116, 0.9852941176470589, 0.9370629370629371\n",
      "[0 0 0 0 0 0 0 1 1 0 0 0 1 1 1 0 1 1 0 1 0 0 0 0 0 0 1 0 1 1]\n",
      "[0 0 1 1 0 0 0 0 0 0 1 0 0 1 1 0 0 0 0 1 1 0 0 0 0 0 0 1 0 1]\n",
      "on test set: Accuracy, Precision, Recall = 0.696969696969697, 0.5806451612903226, 0.5142857142857142\n"
     ]
    }
   ],
   "source": [
    "print(best_params_dict)\n",
    "\n",
    "for threshold, best_params in best_params_dict.items():\n",
    "    X, yb = get_binary_classification_data(X_norm, y_norm, threshold)\n",
    "    xb_train, xb_test, yb_train, yb_test = train_test_split(X, yb, test_size=0.2)\n",
    "    best_model_type = best_params[0]\n",
    "    params = best_params[1]\n",
    "    print(f'')\n",
    "    print(f'best_model_type: {best_model_type}')\n",
    "    print(f'best params: {best_params}')\n",
    "    model = best_model_type(**params)\n",
    "    test_classification_model(model, xb_train, xb_test, yb_train, yb_test)"
   ]
  }
 ],
 "metadata": {
  "kernelspec": {
   "display_name": "Python 3 (ipykernel)",
   "language": "python",
   "name": "python3"
  },
  "language_info": {
   "codemirror_mode": {
    "name": "ipython",
    "version": 3
   },
   "file_extension": ".py",
   "mimetype": "text/x-python",
   "name": "python",
   "nbconvert_exporter": "python",
   "pygments_lexer": "ipython3",
   "version": "3.9.16"
  }
 },
 "nbformat": 4,
 "nbformat_minor": 5
}
