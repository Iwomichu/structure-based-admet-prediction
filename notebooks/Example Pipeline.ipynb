{
 "cells": [
  {
   "cell_type": "code",
   "execution_count": 1,
   "id": "f44bc485",
   "metadata": {},
   "outputs": [],
   "source": [
    "import logging\n",
    "import pathlib\n",
    "import shutil\n",
    "import sys\n",
    "logging.basicConfig()\n",
    "from sklearn.tree import DecisionTreeRegressor\n",
    "from sklearn.model_selection import train_test_split\n",
    "\n",
    "sys.path.append('..')\n",
    "from sbap.sdf import ChemblSdfReader\n",
    "from sbap.featurizers.prolif_smina import SminaDockingPersistenceHandler, SminaConfig, DockedProlifFingerprintFeaturizer, SminaDockingScoreFeaturizer"
   ]
  },
  {
   "cell_type": "code",
   "execution_count": 2,
   "id": "65d5cd98",
   "metadata": {},
   "outputs": [],
   "source": [
    "sdf_file = pathlib.Path(\"../molecules/CYP2C9_IC50_CHEMBL_data.sdf\")\n",
    "protein_pdb_file = pathlib.Path(\"../molecules/4nz2_CYP2C9_cleaned.pdb\")\n",
    "docked_ligands_target_directory = pathlib.Path(\"../molecules/CYP2C9_IC50_CHEMBL_docked_202305051811\")\n",
    "\n",
    "config = SminaConfig(\n",
    "    center_x=-62.461, center_y=-44.369, center_z=-21.255, size_x=30, size_y=30, size_z=30, exhaustiveness=8, \n",
    ")\n",
    "fingerprint_featurizer = DockedProlifFingerprintFeaturizer.create(\n",
    "    logging_level=logging.INFO,\n",
    ")\n",
    "docking_score_featurizer = SminaDockingScoreFeaturizer(logging.INFO)"
   ]
  },
  {
   "cell_type": "code",
   "execution_count": 3,
   "id": "9a538055",
   "metadata": {},
   "outputs": [
    {
     "data": {
      "application/vnd.jupyter.widget-view+json": {
       "model_id": "6dbf8696d1874be7a47a9cc8cd20daf2",
       "version_major": 2,
       "version_minor": 0
      },
      "text/plain": [
       "  0%|          | 0/5144 [00:00<?, ?it/s]"
      ]
     },
     "metadata": {},
     "output_type": "display_data"
    }
   ],
   "source": [
    "fingerprint_featurizer.fit(protein_pdb_file, docked_ligands_target_directory)"
   ]
  },
  {
   "cell_type": "code",
   "execution_count": 4,
   "id": "84205745",
   "metadata": {},
   "outputs": [
    {
     "data": {
      "application/vnd.jupyter.widget-view+json": {
       "model_id": "9e7ef622178e49ef826f83cc73296ad9",
       "version_major": 2,
       "version_minor": 0
      },
      "text/plain": [
       "  0%|          | 0/5144 [00:00<?, ?it/s]"
      ]
     },
     "metadata": {},
     "output_type": "display_data"
    },
    {
     "name": "stderr",
     "output_type": "stream",
     "text": [
      "INFO:ProlifInteractionFingerprintGenerator:Receptor interactions found: Index(['PHE69.A Hydrophobic', 'PHE69.A CustomVdWContact', 'GLY98.A HBDonor',\n",
      "       'GLY98.A CustomVdWContact', 'ILE99.A CustomVdWContact',\n",
      "       'PHE100.A Hydrophobic', 'PHE100.A HBDonor', 'PHE100.A CationPi',\n",
      "       'PHE100.A CustomVdWContact', 'LEU102.A Hydrophobic',\n",
      "       ...\n",
      "       'ALA477.A HBDonor', 'ALA477.A CustomVdWContact', 'SER478.A HBDonor',\n",
      "       'SER478.A CustomVdWContact', 'VAL479.A Hydrophobic',\n",
      "       'VAL479.A CustomVdWContact', 'PRO480.A CustomVdWContact',\n",
      "       'HEM501.A Hydrophobic', 'HEM501.A HBDonor',\n",
      "       'HEM501.A CustomVdWContact'],\n",
      "      dtype='object', length=136)\n"
     ]
    },
    {
     "data": {
      "text/plain": [
       "(5144, 136)"
      ]
     },
     "execution_count": 4,
     "metadata": {},
     "output_type": "execute_result"
    }
   ],
   "source": [
    "X_fp, y = fingerprint_featurizer.transform(protein_pdb_file, docked_ligands_target_directory)\n",
    "X_fp.shape"
   ]
  },
  {
   "cell_type": "code",
   "execution_count": 5,
   "id": "b2a97126",
   "metadata": {},
   "outputs": [],
   "source": [
    "X_fp_train, X_fp_test, X_fp_train, X_fp_test = train_test_split(X_fp, y, random_state=1)"
   ]
  },
  {
   "cell_type": "code",
   "execution_count": null,
   "id": "1434d44b",
   "metadata": {},
   "outputs": [
    {
     "name": "stderr",
     "output_type": "stream",
     "text": [
      " 67%|███████████████████████████████████████████████████████████████████████████████████████████████████████████████████████████████████████▉                                                                  | 3461/5144 [21:19<10:16,  2.73it/s]"
     ]
    }
   ],
   "source": [
    "docking_score_featurizer.featurize(protein_pdb_file, docked_ligands_target_directory)"
   ]
  },
  {
   "cell_type": "code",
   "execution_count": null,
   "id": "36b7801e",
   "metadata": {},
   "outputs": [],
   "source": [
    "regr = DecisionTreeRegressor(random_state=1).fit(X_train, y_train.astype('float'))\n",
    "regr.score(X_test, y_test.astype('float'))"
   ]
  },
  {
   "cell_type": "code",
   "execution_count": null,
   "id": "3c1d7cfc",
   "metadata": {},
   "outputs": [],
   "source": []
  }
 ],
 "metadata": {
  "kernelspec": {
   "display_name": "Python 3 (ipykernel)",
   "language": "python",
   "name": "python3"
  },
  "language_info": {
   "codemirror_mode": {
    "name": "ipython",
    "version": 3
   },
   "file_extension": ".py",
   "mimetype": "text/x-python",
   "name": "python",
   "nbconvert_exporter": "python",
   "pygments_lexer": "ipython3",
   "version": "3.9.15"
  }
 },
 "nbformat": 4,
 "nbformat_minor": 5
}
