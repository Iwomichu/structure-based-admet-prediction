{
 "cells": [
  {
   "cell_type": "code",
   "execution_count": null,
   "id": "f44bc485",
   "metadata": {},
   "outputs": [],
   "source": [
    "import logging\n",
    "import pathlib\n",
    "import shutil\n",
    "import sys\n",
    "logging.basicConfig()"
   ]
  },
  {
   "cell_type": "code",
   "execution_count": null,
   "id": "c4dedd6d",
   "metadata": {},
   "outputs": [],
   "source": [
    "sys.path.append('..')\n",
    "from sbap.sdf import ChemblSdfReader\n",
    "from sbap.featurizers.prolif_smina import SminaDockingPersistenceHandler, SminaConfig, SminaDockingToProlifFingerprintFeaturizer"
   ]
  },
  {
   "cell_type": "code",
   "execution_count": null,
   "id": "65d5cd98",
   "metadata": {},
   "outputs": [],
   "source": [
    "sdf_file = pathlib.Path(\"../molecules/CYP2C9_IC50_CHEMBL_data.sdf\")\n",
    "protein_pdb_file = pathlib.Path(\"../molecules/4nz2_CYP2C9_cleaned.pdb\")\n",
    "docked_ligands_target_directory = pathlib.Path(\"../molecules/CYP2C9_IC50_CHEMBL_docked\")\n",
    "shutil.rmtree(docked_ligands_target_directory, ignore_errors=True)"
   ]
  },
  {
   "cell_type": "code",
   "execution_count": null,
   "id": "7aac5852",
   "metadata": {},
   "outputs": [],
   "source": [
    "config = SminaConfig(\n",
    "    center_x=-62.461, center_y=-44.369, center_z=-21.255, size_x=30, size_y=30, size_z=30, exhaustiveness=8, \n",
    ")\n",
    "featurizer = SminaDockingToProlifFingerprintFeaturizer.create(\n",
    "    smina_config=config, docked_ligands_target_directory=docked_ligands_target_directory, logging_level=logging.INFO\n",
    ")"
   ]
  },
  {
   "cell_type": "code",
   "execution_count": null,
   "id": "9a538055",
   "metadata": {},
   "outputs": [],
   "source": [
    "featurizer.fit(protein_pdb_file, sdf_file)"
   ]
  },
  {
   "cell_type": "code",
   "execution_count": null,
   "id": "84205745",
   "metadata": {},
   "outputs": [],
   "source": [
    "featurizer.transform(protein_pdb_file, sdf_file)"
   ]
  },
  {
   "cell_type": "code",
   "execution_count": null,
   "id": "cc62383b",
   "metadata": {},
   "outputs": [],
   "source": []
  }
 ],
 "metadata": {
  "kernelspec": {
   "display_name": "Python 3 (ipykernel)",
   "language": "python",
   "name": "python3"
  },
  "language_info": {
   "codemirror_mode": {
    "name": "ipython",
    "version": 3
   },
   "file_extension": ".py",
   "mimetype": "text/x-python",
   "name": "python",
   "nbconvert_exporter": "python",
   "pygments_lexer": "ipython3",
   "version": "3.9.15"
  }
 },
 "nbformat": 4,
 "nbformat_minor": 5
}
