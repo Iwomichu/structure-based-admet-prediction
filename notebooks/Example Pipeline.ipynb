{
 "cells": [
  {
   "cell_type": "code",
   "execution_count": null,
   "id": "f44bc485",
   "metadata": {},
   "outputs": [],
   "source": [
    "import sys\n",
    "import pathlib\n",
    "from sklearn.model_selection import train_test_split\n",
    "from sklearn.pipeline import Pipeline\n",
    "from sklearn.neural_network import MLPRegressor"
   ]
  },
  {
   "cell_type": "code",
   "execution_count": null,
   "id": "c4dedd6d",
   "metadata": {},
   "outputs": [],
   "source": [
    "sys.path.append('..')\n",
    "from sbap.sdf import ChemblSdfReader\n",
    "from sbap.featurizers.dummy import DummyFeaturizer"
   ]
  },
  {
   "cell_type": "code",
   "execution_count": null,
   "id": "65d5cd98",
   "metadata": {},
   "outputs": [],
   "source": [
    "records = ChemblSdfReader().parse(pathlib.Path(\"PATH_TO_SDF\"))"
   ]
  },
  {
   "cell_type": "code",
   "execution_count": null,
   "id": "6625b0c4",
   "metadata": {},
   "outputs": [],
   "source": [
    "train, test = train_test_split(records)\n",
    "featurizer = DummyFeaturizer()\n",
    "pipeline = Pipeline([(\"regressor\", MLPRegressor())])"
   ]
  },
  {
   "cell_type": "code",
   "execution_count": null,
   "id": "6c7ad7cd",
   "metadata": {},
   "outputs": [],
   "source": [
    "X_train, y_train = featurizer.transform(train)\n",
    "pipeline.fit(X_train, y_train)"
   ]
  }
 ],
 "metadata": {
  "kernelspec": {
   "display_name": "Python 3 (ipykernel)",
   "language": "python",
   "name": "python3"
  },
  "language_info": {
   "codemirror_mode": {
    "name": "ipython",
    "version": 3
   },
   "file_extension": ".py",
   "mimetype": "text/x-python",
   "name": "python",
   "nbconvert_exporter": "python",
   "pygments_lexer": "ipython3",
   "version": "3.9.16"
  }
 },
 "nbformat": 4,
 "nbformat_minor": 5
}
