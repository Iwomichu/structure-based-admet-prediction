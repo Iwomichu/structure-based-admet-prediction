{
 "cells": [
  {
   "cell_type": "code",
   "execution_count": 1,
   "id": "f44bc485",
   "metadata": {},
   "outputs": [],
   "source": [
    "import logging\n",
    "import pathlib\n",
    "import shutil\n",
    "import sys\n",
    "logging.basicConfig()\n",
    "from sklearn.tree import DecisionTreeRegressor\n",
    "from sklearn.model_selection import train_test_split\n",
    "\n",
    "sys.path.append('..')\n",
    "from sbap.sdf import ChemblSdfReader\n",
    "from sbap.featurizers.prolif_smina import SminaDockingPersistenceHandler, SminaConfig, DockedProlifFingerprintFeaturizer, SminaDockingScoreFeaturizer"
   ]
  },
  {
   "cell_type": "code",
   "execution_count": 5,
   "id": "65d5cd98",
   "metadata": {},
   "outputs": [],
   "source": [
    "sdf_file = pathlib.Path(\"../molecules/CYP2C9_IC50_CHEMBL_data.sdf\")\n",
    "protein_pdb_file = pathlib.Path(\"../molecules/4la0_human_serum_albumin_cleaned_without_ligand.pdb\")\n",
    "docked_ligands_target_directory = pathlib.Path(\"../4la0_human_serum_albumin_cleaned_without_ligand.pdb_2023_05_27_14_20_47\")\n",
    "\n",
    "fingerprint_featurizer = DockedProlifFingerprintFeaturizer.create(\n",
    "    logging_level=logging.INFO,\n",
    ")\n",
    "docking_score_featurizer = SminaDockingScoreFeaturizer(logging.INFO)"
   ]
  },
  {
   "cell_type": "code",
   "execution_count": 6,
   "id": "9a538055",
   "metadata": {},
   "outputs": [
    {
     "data": {
      "application/vnd.jupyter.widget-view+json": {
       "model_id": "1f630d8dbec34f6cbe7539d922680655",
       "version_major": 2,
       "version_minor": 0
      },
      "text/plain": [
       "  0%|          | 0/195 [00:00<?, ?it/s]"
      ]
     },
     "metadata": {},
     "output_type": "display_data"
    }
   ],
   "source": [
    "fingerprint_featurizer.fit(protein_pdb_file, docked_ligands_target_directory)"
   ]
  },
  {
   "cell_type": "code",
   "execution_count": 7,
   "id": "84205745",
   "metadata": {},
   "outputs": [
    {
     "data": {
      "application/vnd.jupyter.widget-view+json": {
       "model_id": "9fac0b8911fa43a0b13b2a8da9a3078e",
       "version_major": 2,
       "version_minor": 0
      },
      "text/plain": [
       "  0%|          | 0/195 [00:00<?, ?it/s]"
      ]
     },
     "metadata": {},
     "output_type": "display_data"
    },
    {
     "name": "stderr",
     "output_type": "stream",
     "text": [
      "INFO:ProlifInteractionFingerprintGenerator:Receptor interactions found: Index(['GLU17.A Cationic', 'ASN18.A CustomVdWContact',\n",
      "       'LYS20.A CustomVdWContact', 'ASP108.A CustomVdWContact',\n",
      "       'ARG114.A CustomVdWContact', 'LEU115.A Hydrophobic', 'LEU115.A HBDonor',\n",
      "       'LEU115.A CustomVdWContact', 'VAL116.A CustomVdWContact',\n",
      "       'ARG117.A HBDonor', 'ARG117.A CustomVdWContact',\n",
      "       'PRO118.A CustomVdWContact', 'MET123.A Hydrophobic',\n",
      "       'MET123.A CustomVdWContact', 'ALA126.A HBDonor',\n",
      "       'ALA126.A CustomVdWContact', 'ASN130.A CustomVdWContact',\n",
      "       'PHE134.A Hydrophobic', 'PHE134.A HBDonor', 'PHE134.A CationPi',\n",
      "       'PHE134.A CustomVdWContact', 'LYS137.A Anionic',\n",
      "       'LYS137.A CustomVdWContact', 'TYR138.A Hydrophobic', 'TYR138.A HBDonor',\n",
      "       'TYR138.A CustomVdWContact', 'GLU141.A Cationic',\n",
      "       'GLU141.A CustomVdWContact', 'ILE142.A CustomVdWContact',\n",
      "       'ARG145.A CustomVdWContact', 'HIS146.A CustomVdWContact',\n",
      "       'PRO147.A CustomVdWContact', 'TYR148.A CustomVdWContact',\n",
      "       'PHE149.A Hydrophobic', 'PHE149.A CustomVdWContact',\n",
      "       'PHE157.A CustomVdWContact', 'ALA158.A CustomVdWContact',\n",
      "       'TYR161.A Hydrophobic', 'TYR161.A CustomVdWContact',\n",
      "       'PHE165.A Hydrophobic', 'PHE165.A CustomVdWContact',\n",
      "       'LEU182.A Hydrophobic', 'LEU182.A HBDonor', 'LEU182.A CustomVdWContact',\n",
      "       'LEU185.A CustomVdWContact', 'ARG186.A CustomVdWContact',\n",
      "       'GLY189.A CustomVdWContact', 'LYS190.A CustomVdWContact',\n",
      "       'SER193.A HBDonor', 'SER193.A CustomVdWContact'],\n",
      "      dtype='object')\n"
     ]
    },
    {
     "data": {
      "text/plain": [
       "(195, 51)"
      ]
     },
     "execution_count": 7,
     "metadata": {},
     "output_type": "execute_result"
    }
   ],
   "source": [
    "X_fp, y = fingerprint_featurizer.transform(protein_pdb_file, docked_ligands_target_directory)\n",
    "X_fp.shape"
   ]
  },
  {
   "cell_type": "code",
   "execution_count": 8,
   "id": "61213690",
   "metadata": {},
   "outputs": [
    {
     "data": {
      "text/plain": [
       "array([[-8.6,  0. ,  0. , ...,  0. ,  0. ,  0. ],\n",
       "       [-6.8,  0. ,  0. , ...,  0. ,  0. ,  0. ],\n",
       "       [-8.9,  0. ,  0. , ...,  0. ,  0. ,  0. ],\n",
       "       ...,\n",
       "       [-7.6,  0. ,  0. , ...,  0. ,  0. ,  0. ],\n",
       "       [-9.9,  0. ,  0. , ...,  0. ,  0. ,  0. ],\n",
       "       [-6.6,  0. ,  0. , ...,  0. ,  0. ,  0. ]])"
      ]
     },
     "execution_count": 8,
     "metadata": {},
     "output_type": "execute_result"
    }
   ],
   "source": [
    "X_fp"
   ]
  },
  {
   "cell_type": "code",
   "execution_count": 5,
   "id": "b2a97126",
   "metadata": {},
   "outputs": [],
   "source": [
    "X_fp_train, X_fp_test, X_fp_train, X_fp_test = train_test_split(X_fp, y, random_state=1)"
   ]
  },
  {
   "cell_type": "code",
   "execution_count": null,
   "id": "1434d44b",
   "metadata": {},
   "outputs": [
    {
     "name": "stderr",
     "output_type": "stream",
     "text": [
      " 67%|███████████████████████████████████████████████████████████████████████████████████████████████████████████████████████████████████████▉                                                                  | 3461/5144 [21:19<10:16,  2.73it/s]"
     ]
    }
   ],
   "source": [
    "docking_score_featurizer.featurize(protein_pdb_file, docked_ligands_target_directory)"
   ]
  },
  {
   "cell_type": "code",
   "execution_count": null,
   "id": "36b7801e",
   "metadata": {},
   "outputs": [],
   "source": [
    "regr = DecisionTreeRegressor(random_state=1).fit(X_train, y_train.astype('float'))\n",
    "regr.score(X_test, y_test.astype('float'))"
   ]
  },
  {
   "cell_type": "code",
   "execution_count": null,
   "id": "3c1d7cfc",
   "metadata": {},
   "outputs": [],
   "source": []
  }
 ],
 "metadata": {
  "kernelspec": {
   "display_name": "Python 3 (ipykernel)",
   "language": "python",
   "name": "python3"
  },
  "language_info": {
   "codemirror_mode": {
    "name": "ipython",
    "version": 3
   },
   "file_extension": ".py",
   "mimetype": "text/x-python",
   "name": "python",
   "nbconvert_exporter": "python",
   "pygments_lexer": "ipython3",
   "version": "3.9.15"
  }
 },
 "nbformat": 4,
 "nbformat_minor": 5
}
