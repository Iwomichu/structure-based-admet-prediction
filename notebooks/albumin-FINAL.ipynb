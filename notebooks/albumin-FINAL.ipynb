{
 "cells": [
  {
   "cell_type": "code",
   "execution_count": 2,
   "id": "f44bc485",
   "metadata": {},
   "outputs": [],
   "source": [
    "import logging\n",
    "import pathlib\n",
    "import shutil\n",
    "import sys\n",
    "import csv\n",
    "import os\n",
    "import itertools\n",
    "from tqdm import tqdm\n",
    "logging.basicConfig()\n",
    "\n",
    "import scipy\n",
    "from sklearn.tree import DecisionTreeRegressor\n",
    "from sklearn.model_selection import train_test_split, cross_validate\n",
    "from matplotlib import pyplot as plt\n",
    "from tdc import Evaluator\n",
    "import numpy as np\n",
    "import seaborn as sb\n",
    "\n",
    "from rdkit import Chem\n",
    "from rdkit.Chem import MACCSkeys\n",
    "\n",
    "sys.path.append('..')\n",
    "from sbap.sdf import ChemblSdfReader\n",
    "from sbap.featurizers.prolif_smina import SminaDockingPersistenceHandler, SminaConfig, DockedProlifFingerprintFeaturizer, SminaDockingScoreFeaturizer"
   ]
  },
  {
   "cell_type": "code",
   "execution_count": 3,
   "id": "65d5cd98",
   "metadata": {},
   "outputs": [],
   "source": [
    "sdf_file = pathlib.Path(\"../molecules/human_serum_albumin_CHEMBL_data.sdf\")\n",
    "protein_pdb_file = pathlib.Path(\"../molecules/4la0_human_serum_albumin_cleaned_without_ligand.pdb\")\n",
    "docked_ligands_target_directory = pathlib.Path(\"../molecules/albumin_bis\")\n",
    "\n",
    "config = SminaConfig(\n",
    "    center_x=-17.654, center_y=-13.090, center_z=10.471, size_x=30, size_y=30, size_z=30, exhaustiveness=6,\n",
    ")\n",
    "persistent_docking_handler = SminaDockingPersistenceHandler.create(\n",
    "    smina_config=config,\n",
    "    docked_ligands_target_directory=str(docked_ligands_target_directory),\n",
    "    logging_level=logging.INFO,\n",
    ")\n",
    "fingerprint_featurizer = DockedProlifFingerprintFeaturizer.create(\n",
    "    logging_level=logging.INFO,\n",
    ")\n",
    "docking_score_featurizer = SminaDockingScoreFeaturizer(logging.INFO)\n",
    "\n",
    "# persistent_docking_handler.dock(protein_pdb_file, sdf_file, starting_batch=1, batch_size=1)"
   ]
  },
  {
   "cell_type": "markdown",
   "id": "29c146ed",
   "metadata": {},
   "source": [
    "## Transformacja nr 0 (opcjonalna) - dodaj MACCS"
   ]
  },
  {
   "cell_type": "code",
   "execution_count": 4,
   "id": "111a71f4",
   "metadata": {},
   "outputs": [],
   "source": [
    "def get_input_data(include_maccs=False):\n",
    "    fingerprint_featurizer.fit(protein_pdb_file, docked_ligands_target_directory)\n",
    "    X, y = fingerprint_featurizer.transform(protein_pdb_file, docked_ligands_target_directory)\n",
    "    if include_maccs:\n",
    "        # sdf_reader = Chem.rdmolfiles.SDMolSupplier(str(sdf_file))\n",
    "        reader = ChemblSdfReader()\n",
    "        molecules = reader.parse(sdf_file)\n",
    "        maccs = []\n",
    "        cnt = 0\n",
    "        labels_csv = os.path.join(docked_ligands_target_directory, 'labels.csv')\n",
    "        with open(labels_csv, 'r') as file:\n",
    "            for result_id, score, label, cdId in csv.reader(file):\n",
    "                number = int(cdId[1:-1])\n",
    "                while molecules[cnt]['cdId'] != number:\n",
    "                    cnt += 1\n",
    "                mol = Chem.rdmolfiles.MolFromMolBlock(molecules[cnt]['mol'])\n",
    "                fp = MACCSkeys.GenMACCSKeys(mol).ToBitString()\n",
    "                maccs.append(MACCSkeys.GenMACCSKeys(mol))\n",
    "                cnt += 1\n",
    "        maccs_x = np.array(maccs, dtype='i')\n",
    "        print(f'maccs.shape = {maccs_x.shape}')\n",
    "        X = np.concatenate((X, maccs_x), axis=1)\n",
    "    return X, y"
   ]
  },
  {
   "cell_type": "code",
   "execution_count": 5,
   "id": "9aefe51d",
   "metadata": {
    "scrolled": false
   },
   "outputs": [
    {
     "data": {
      "application/vnd.jupyter.widget-view+json": {
       "model_id": "5e0dc1071e094a09a36fbe2be7714bae",
       "version_major": 2,
       "version_minor": 0
      },
      "text/plain": [
       "  0%|          | 0/493 [00:00<?, ?it/s]"
      ]
     },
     "metadata": {},
     "output_type": "display_data"
    },
    {
     "data": {
      "application/vnd.jupyter.widget-view+json": {
       "model_id": "d5e1448b180a480d8bd8fb3892e4ae51",
       "version_major": 2,
       "version_minor": 0
      },
      "text/plain": [
       "  0%|          | 0/493 [00:00<?, ?it/s]"
      ]
     },
     "metadata": {},
     "output_type": "display_data"
    },
    {
     "name": "stdout",
     "output_type": "stream",
     "text": [
      "input shape: (493, 153)\n"
     ]
    }
   ],
   "source": [
    "X, Y = get_input_data(include_maccs=False)\n",
    "print(f'input shape: {X.shape}')"
   ]
  },
  {
   "cell_type": "markdown",
   "id": "c733be51",
   "metadata": {},
   "source": [
    "## Transformacja nr 1 - przekształć y na skalę logarytmiczną"
   ]
  },
  {
   "cell_type": "code",
   "execution_count": 6,
   "id": "c4efffa1",
   "metadata": {},
   "outputs": [
    {
     "data": {
      "image/png": "[encoded data removed]",
      "text/plain": [
       "<Figure size 640x480 with 1 Axes>"
      ]
     },
     "metadata": {},
     "output_type": "display_data"
    }
   ],
   "source": [
    "dataset_siz = X.shape[0]\n",
    "y = np.array(Y, dtype='f')\n",
    "y = np.log10(100.1 - y)\n",
    "count, bins, _ = plt.hist(y, bins=50)\n",
    "plt.show()"
   ]
  },
  {
   "cell_type": "markdown",
   "id": "75340cb7",
   "metadata": {},
   "source": [
    "Czy liczba zapalonych bitów fingerprintu koreluje z docking score? Chyba tak"
   ]
  },
  {
   "cell_type": "markdown",
   "id": "77627fa4",
   "metadata": {},
   "source": [
    "## Transformacja nr 2 \n",
    "### usuń punkty, dla których docking score jest niespodziewanie mały"
   ]
  },
  {
   "cell_type": "code",
   "execution_count": 7,
   "id": "7083c64d",
   "metadata": {},
   "outputs": [
    {
     "name": "stdout",
     "output_type": "stream",
     "text": [
      "(493, 153)\n",
      "new shape: (493, 153)\n"
     ]
    },
    {
     "data": {
      "image/png": "[encoded data removed]",
      "text/plain": [
       "<Figure size 640x480 with 1 Axes>"
      ]
     },
     "metadata": {},
     "output_type": "display_data"
    }
   ],
   "source": [
    "print(X.shape)\n",
    "good_indices = np.argwhere(X[:, 0] < -2).flatten()\n",
    "X = X[good_indices, :]\n",
    "y = y[good_indices]\n",
    "print(f'new shape: {X.shape}')\n",
    "A = np.sum(X[:, 1:], axis=1)\n",
    "plt.scatter(y, X[:, 0])\n",
    "plt.show()"
   ]
  },
  {
   "cell_type": "markdown",
   "id": "8ad7b332",
   "metadata": {},
   "source": [
    "## Transformacja nr 3 (opcjonalna)\n",
    "### usuń bity, które są zapalone tylko dla kilku (<CUTOFF_THRESHOLD) ligandów"
   ]
  },
  {
   "cell_type": "code",
   "execution_count": 8,
   "id": "5feb742e",
   "metadata": {},
   "outputs": [
    {
     "name": "stdout",
     "output_type": "stream",
     "text": [
      "(493, 53)\n"
     ]
    }
   ],
   "source": [
    "def truncate(X, Y, CUTOFF_THRESHOLD=20):\n",
    "    sums = np.sum(X, axis=0)\n",
    "    good_idces = np.argwhere(sums > CUTOFF_THRESHOLD).flatten()\n",
    "    X_trunc = X[:, good_idces]\n",
    "    return X_trunc, Y\n",
    "\n",
    "X_trunc, y_trunc = truncate(X, y, 5)\n",
    "print(X_trunc.shape)"
   ]
  },
  {
   "cell_type": "markdown",
   "id": "1c713b2b",
   "metadata": {},
   "source": [
    "## Transformacja nr 4 (opcjonalna)\n",
    "### usuń część danych tak aby rozkład danych bardziej przypominał rozkład normalny"
   ]
  },
  {
   "cell_type": "code",
   "execution_count": 9,
   "id": "6c982b6a",
   "metadata": {},
   "outputs": [
    {
     "name": "stdout",
     "output_type": "stream",
     "text": [
      "(493, 53)\n",
      "(493,)\n"
     ]
    },
    {
     "data": {
      "image/png": "[encoded data removed]",
      "text/plain": [
       "<Figure size 640x480 with 1 Axes>"
      ]
     },
     "metadata": {},
     "output_type": "display_data"
    }
   ],
   "source": [
    "def pseudonormalize(X, Y, THRESHOLD=100):\n",
    "    n_bins = 50\n",
    "    y_min = np.min(Y)\n",
    "    y_max = np.max(Y) + 0.0001\n",
    "    limits = []\n",
    "\n",
    "    good_indices = []\n",
    "    for i in range(51):\n",
    "        limits.append(y_min + (i * (y_max - y_min) / n_bins))\n",
    "    for i in range(50):\n",
    "        bin_indices = np.argwhere(np.logical_and(Y >= limits[i], Y < limits[i+1])).flatten()\n",
    "        if len(list(bin_indices)) > THRESHOLD:\n",
    "            bin_indices = bin_indices[:THRESHOLD]\n",
    "        good_indices = good_indices + list(bin_indices)\n",
    "    tX = X[good_indices]\n",
    "    tY = Y[good_indices]\n",
    "\n",
    "    print(tX.shape)\n",
    "    print(tY.shape)\n",
    "    count, bins, _ = plt.hist(tY, bins=50)\n",
    "    plt.show()\n",
    "    return tX, tY\n",
    "\n",
    "X_norm, y_norm = pseudonormalize(X_trunc, y_trunc, 100)"
   ]
  },
  {
   "cell_type": "markdown",
   "id": "84068b5f",
   "metadata": {},
   "source": [
    "# Porównanie różnych modeli regresji"
   ]
  },
  {
   "cell_type": "code",
   "execution_count": 10,
   "id": "9236dc2c",
   "metadata": {},
   "outputs": [],
   "source": [
    "rmse = Evaluator(name = 'RMSE')\n",
    "mae = Evaluator(name = 'MAE')\n",
    "r_squared = Evaluator(name = 'R2')"
   ]
  },
  {
   "cell_type": "code",
   "execution_count": 11,
   "id": "012d7665",
   "metadata": {},
   "outputs": [],
   "source": [
    "\"\"\"\n",
    "uses 5-cross validation to estimate model\n",
    "\"\"\"\n",
    "def evaluate_regression_model(model, X, y):\n",
    "    scoring = ['neg_mean_absolute_error', 'r2']\n",
    "    results = cross_validate(estimator=model, X=X, y=y, cv=5, scoring=scoring)\n",
    "    return np.mean(results['test_r2']) + np.mean(results['test_neg_mean_absolute_error'])\n",
    "\n",
    "def test_regression_model(model, x_train, x_test, y_train, y_test):\n",
    "    model.fit(x_train, y_train)\n",
    "\n",
    "    fig, ax = plt.subplots()\n",
    "    ax.axline((0, 0), slope=1)\n",
    "    \n",
    "    predictions = model.predict(x_train)  \n",
    "    rmse_score = rmse(y_train, predictions)\n",
    "    mae_score = mae(y_train, predictions)\n",
    "    r2_score = r_squared(y_train, predictions)\n",
    "    print(f'on train set: RMSE, MAE, R2 = {rmse_score}, {mae_score}, {r2_score}')\n",
    "    plt.scatter(y_train, predictions)\n",
    "\n",
    "    predictions = model.predict(x_test) \n",
    "    rmse_score = rmse(y_test, predictions)\n",
    "    mae_score = mae(y_test, predictions)\n",
    "    r2_score = r_squared(y_test, predictions)\n",
    "    print(f'on test set: RMSE, MAE, R2 = {rmse_score}, {mae_score}, {r2_score}')\n",
    "    plt.scatter(y_test, predictions)\n",
    "    plt.show()"
   ]
  },
  {
   "cell_type": "code",
   "execution_count": 14,
   "id": "77260bcd",
   "metadata": {},
   "outputs": [],
   "source": [
    "from sklearn.ensemble import RandomForestRegressor\n",
    "from sklearn.neural_network import MLPRegressor\n",
    "from sklearn.linear_model import LinearRegression, Ridge\n",
    "\n",
    "# you can try multiple configurations\n",
    "regression_model_list = [\n",
    "    (RandomForestRegressor, {\n",
    "        'n_estimators': [300, 500, 800], \n",
    "        'min_samples_leaf': [2, 4, 8], \n",
    "        'max_features': ['log2', 'sqrt', None]\n",
    "    }),\n",
    "    #(MLPRegressor, {\n",
    "    #    'hidden_layer_sizes': [(100,), (300,), (256, 128), (128, 64, 32), (100, 100)], \n",
    "    #    'activation': ['logistic', 'tanh', 'relu'],\n",
    "    #    'early_stopping': [True, False]\n",
    "    #}),\n",
    "    #(Ridge, {\n",
    "    #    'alpha': [0.0001, 0.0003, 0.001, 0.003, 0.01, 0.03, 0.1, 0.3, 1.0, 3.0]\n",
    "    #}),\n",
    "]"
   ]
  },
  {
   "cell_type": "code",
   "execution_count": 15,
   "id": "b0173a63",
   "metadata": {},
   "outputs": [
    {
     "name": "stderr",
     "output_type": "stream",
     "text": [
      "27it [01:04,  2.40s/it]"
     ]
    },
    {
     "name": "stdout",
     "output_type": "stream",
     "text": [
      "done with <class 'sklearn.ensemble._forest.RandomForestRegressor'>\n",
      "best_model_type = <class 'sklearn.ensemble._forest.RandomForestRegressor'>, best_params = {'n_estimators': 800, 'min_samples_leaf': 2, 'max_features': 'log2'}, best_score = -0.47534613690343364\n"
     ]
    },
    {
     "name": "stderr",
     "output_type": "stream",
     "text": [
      "\n"
     ]
    }
   ],
   "source": [
    "def my_product(inp):\n",
    "    return (dict(zip(inp.keys(), values)) for values in itertools.product(*inp.values()))\n",
    "\n",
    "scores = []\n",
    "best_score = -10.0\n",
    "best_params = ()\n",
    "best_model_type = None\n",
    "\n",
    "x_train, x_test, y_train, y_test = train_test_split(X_norm, y_norm, test_size=0.2)\n",
    "\n",
    "for model_type in regression_model_list:\n",
    "    for params in tqdm(my_product(model_type[1])):\n",
    "        model = model_type[0](**params)\n",
    "        score = evaluate_regression_model(model, x_train, y_train)\n",
    "        scores.append(score)\n",
    "        if score > best_score:\n",
    "            best_score = score\n",
    "            best_model_type = model_type[0]\n",
    "            best_params = params\n",
    "    print(f'done with {model_type[0]}')\n",
    "print(f'best_model_type = {best_model_type}, best_params = {best_params}, best_score = {best_score}')"
   ]
  },
  {
   "cell_type": "code",
   "execution_count": 16,
   "id": "cbea6bc7",
   "metadata": {},
   "outputs": [
    {
     "name": "stdout",
     "output_type": "stream",
     "text": [
      "best_model_type = <class 'sklearn.ensemble._forest.RandomForestRegressor'>, best_params = {'n_estimators': 800, 'min_samples_leaf': 2, 'max_features': 'log2'}, best_score = -0.47534613690343364\n",
      "on train set: RMSE, MAE, R2 = 0.5437760942348727, 0.4187285581894923, 0.3383560535998442\n",
      "on test set: RMSE, MAE, R2 = 0.6749071983603696, 0.5252129626687964, 0.008709886975597603\n"
     ]
    },
    {
     "data": {
      "image/png": "[encoded data removed]",
      "text/plain": [
       "<Figure size 640x480 with 1 Axes>"
      ]
     },
     "metadata": {},
     "output_type": "display_data"
    }
   ],
   "source": [
    "print(f'best_model_type = {best_model_type}, best_params = {best_params}, best_score = {best_score}')\n",
    "# model = best_model_type(**best_params)\n",
    "test_regression_model(model, x_train, x_test, y_train, y_test)"
   ]
  },
  {
   "cell_type": "markdown",
   "id": "7b8cccb7",
   "metadata": {},
   "source": [
    "## Variable importance"
   ]
  },
  {
   "cell_type": "code",
   "execution_count": 24,
   "id": "40e8651c",
   "metadata": {},
   "outputs": [
    {
     "name": "stdout",
     "output_type": "stream",
     "text": [
      "max contribution: 0.037498949451763526, min contribution: 3.1263732505746925e-05\n",
      "the docking score parameter contributed 0.001078445487610113\n",
      "on average, a SIFT parameter contributed 0.0034352134388259303\n",
      "on average, a MACCS parameter contributed 0.005014769598129168\n"
     ]
    },
    {
     "data": {
      "image/png": "[encoded data removed]",
      "text/plain": [
       "<Figure size 640x480 with 1 Axes>"
      ]
     },
     "metadata": {},
     "output_type": "display_data"
    }
   ],
   "source": [
    "np.set_printoptions(precision=4, suppress=True)\n",
    "importance = model.feature_importances_\n",
    "importance_sift = importance[1:-167]\n",
    "sum_sift = np.sum(X_norm[:, 1:-167], axis=0)\n",
    "plt.scatter(importance_sift, sum_sift)\n",
    "print(f'max contribution: {np.max(importance)}, min contribution: {np.min(importance)}')\n",
    "print(f'the docking score parameter contributed {importance[0]}')\n",
    "print(f'on average, a SIFT parameter contributed {np.mean(importance_sift)}')\n",
    "print(f'on average, a MACCS parameter contributed {np.mean(importance[-167:])}')\n",
    "plt.show()"
   ]
  },
  {
   "cell_type": "markdown",
   "id": "01eb505c",
   "metadata": {},
   "source": [
    "# Porównanie modeli klasyfikacji binarnej"
   ]
  },
  {
   "cell_type": "code",
   "execution_count": 24,
   "id": "bca9bf07",
   "metadata": {},
   "outputs": [],
   "source": [
    "def get_binary_classification_data(X, y, threshold = 0.8):\n",
    "    high_pic50 = np.argwhere(y > threshold).flatten()\n",
    "    yb = np.zeros(y.shape)\n",
    "    yb[high_pic50] = 1.0\n",
    "    yb = np.array(yb, dtype='i')\n",
    "    print(f'fraction of 1\\'s: {sum(yb) / len(yb)}')\n",
    "    return X, yb"
   ]
  },
  {
   "cell_type": "code",
   "execution_count": 25,
   "id": "9dcc2b37",
   "metadata": {},
   "outputs": [],
   "source": [
    "acc = Evaluator(name = 'Accuracy')\n",
    "prec = Evaluator(name = 'Precision')\n",
    "recall = Evaluator(name = 'Recall')\n",
    "\n",
    "def evaluate_classification_model(model, X, yb):\n",
    "    scoring = ['accuracy', 'precision', 'recall']\n",
    "    results = cross_validate(estimator=model, X=X, y=yb, cv=5, scoring=scoring)\n",
    "    return np.mean(results['test_accuracy']) + 3 * np.mean(results['test_precision']) + 5 * np.mean(results['test_recall'])\n",
    "\n",
    "\n",
    "def test_classification_model(model, xb_train, xb_test, yb_train, yb_test):\n",
    "    model.fit(xb_train, yb_train)\n",
    "\n",
    "    predictions = model.predict(xb_train)  \n",
    "    print(predictions[:30])\n",
    "    print(yb_train[:30])\n",
    "    acc_score = acc(yb_train, predictions)\n",
    "    prec_score = prec(yb_train, predictions)\n",
    "    recall_score = recall(yb_train, predictions)\n",
    "    print(f'on train set: Accuracy, Precision, Recall = {acc_score}, {prec_score}, {recall_score}')\n",
    "\n",
    "    predictions = model.predict(xb_test) \n",
    "    print(predictions[:30])\n",
    "    print(yb_test[:30])\n",
    "    acc_score = acc(yb_test, predictions)\n",
    "    prec_score = prec(yb_test, predictions)\n",
    "    recall_score = recall(yb_test, predictions)\n",
    "    print(f'on test set: Accuracy, Precision, Recall = {acc_score}, {prec_score}, {recall_score}')"
   ]
  },
  {
   "cell_type": "code",
   "execution_count": 26,
   "id": "af7fa6d3",
   "metadata": {},
   "outputs": [],
   "source": [
    "from sklearn.ensemble import RandomForestClassifier, AdaBoostClassifier\n",
    "from sklearn.linear_model import LogisticRegression\n",
    "from sklearn.neural_network import MLPClassifier\n",
    "from sklearn.svm import SVC\n",
    "\n",
    "classification_model_list = [\n",
    "    (RandomForestClassifier, {}),\n",
    "    (AdaBoostClassifier,     {'n_estimators': [15, 31, 61]}),\n",
    "    # (SVC,                    {'kernel': ['linear', 'poly', 'rbf', 'sigmoid'], 'C': [0.3, 1.0, 3.0]}),\n",
    "    (SVC,                    {'kernel': ['poly', 'sigmoid'], 'C': [0.3, 1.0, 3.0]}),\n",
    "    (MLPClassifier,          {'hidden_layer_sizes': [80, 50], 'alpha': [0.3, 1.0, 3.0]}),\n",
    "    (LogisticRegression,     {'penalty': ['l1', 'l2'], 'C': [0.1, 0.3], 'solver': ['liblinear']}),\n",
    "]"
   ]
  },
  {
   "cell_type": "code",
   "execution_count": 28,
   "id": "de8b0e15",
   "metadata": {
    "scrolled": true
   },
   "outputs": [
    {
     "name": "stdout",
     "output_type": "stream",
     "text": [
      "fraction of 1's: 0.718052738336714\n",
      "(493, 192)\n",
      "best_model_type = <class 'sklearn.linear_model._logistic.LogisticRegression'>, best_params = (<class 'sklearn.linear_model._logistic.LogisticRegression'>, {'penalty': 'l1', 'C': 0.1, 'solver': 'liblinear'}), best_score = 7.902388474467147\n",
      "fraction of 1's: 0.6693711967545639\n",
      "(493, 192)\n",
      "best_model_type = <class 'sklearn.svm._classes.SVC'>, best_params = (<class 'sklearn.svm._classes.SVC'>, {'kernel': 'sigmoid', 'C': 0.3}), best_score = 7.645260057989937\n",
      "fraction of 1's: 0.5862068965517241\n",
      "(493, 192)\n",
      "best_model_type = <class 'sklearn.svm._classes.SVC'>, best_params = (<class 'sklearn.svm._classes.SVC'>, {'kernel': 'sigmoid', 'C': 0.3}), best_score = 7.105249167836702\n",
      "fraction of 1's: 0.4746450304259635\n",
      "(493, 192)\n",
      "best_model_type = <class 'sklearn.ensemble._weight_boosting.AdaBoostClassifier'>, best_params = (<class 'sklearn.ensemble._weight_boosting.AdaBoostClassifier'>, {'n_estimators': 31}), best_score = 6.261200172815233\n",
      "fraction of 1's: 0.4178498985801217\n",
      "(493, 192)\n",
      "best_model_type = <class 'sklearn.linear_model._logistic.LogisticRegression'>, best_params = (<class 'sklearn.linear_model._logistic.LogisticRegression'>, {'penalty': 'l1', 'C': 0.3, 'solver': 'liblinear'}), best_score = 6.00378373068563\n",
      "fraction of 1's: 0.36105476673427994\n",
      "(493, 192)\n",
      "best_model_type = <class 'sklearn.neural_network._multilayer_perceptron.MLPClassifier'>, best_params = (<class 'sklearn.neural_network._multilayer_perceptron.MLPClassifier'>, {'hidden_layer_sizes': 50, 'alpha': 1.0}), best_score = 5.997333224674997\n"
     ]
    }
   ],
   "source": [
    "def my_product(inp):\n",
    "    return (dict(zip(inp.keys(), values)) for values in itertools.product(*inp.values()))\n",
    "\n",
    "best_params_dict = {}\n",
    "\n",
    "for threshold in [0.6, 0.7, 0.8, 0.9, 1.0, 1.1]:\n",
    "    scores = []\n",
    "    best_score = -10.0\n",
    "    best_params = ()\n",
    "    best_model_type = None\n",
    "    X, yb = get_binary_classification_data(X_norm, y_norm, threshold)\n",
    "    print(X.shape)\n",
    "    xb_train, xb_test, yb_train, yb_test = train_test_split(X, yb, test_size=0.2)\n",
    "\n",
    "    for model_type in classification_model_list:\n",
    "        for params in my_product(model_type[1]):\n",
    "            model = model_type[0](**params)\n",
    "            score = evaluate_classification_model(model, xb_train, yb_train)\n",
    "            scores.append(score)\n",
    "            if score > best_score:\n",
    "                best_score = score\n",
    "                best_model_type = model_type[0]\n",
    "                best_params = (model_type[0], params)\n",
    "    print(f'best_model_type = {best_model_type}, best_params = {best_params}, best_score = {best_score}')\n",
    "    best_params_dict[threshold] = best_params"
   ]
  },
  {
   "cell_type": "code",
   "execution_count": 30,
   "id": "63420325",
   "metadata": {
    "scrolled": true
   },
   "outputs": [
    {
     "name": "stdout",
     "output_type": "stream",
     "text": [
      "{0.6: (<class 'sklearn.linear_model._logistic.LogisticRegression'>, {'penalty': 'l1', 'C': 0.1, 'solver': 'liblinear'}), 0.7: (<class 'sklearn.svm._classes.SVC'>, {'kernel': 'sigmoid', 'C': 0.3}), 0.8: (<class 'sklearn.svm._classes.SVC'>, {'kernel': 'sigmoid', 'C': 0.3}), 0.9: (<class 'sklearn.ensemble._weight_boosting.AdaBoostClassifier'>, {'n_estimators': 31}), 1.0: (<class 'sklearn.linear_model._logistic.LogisticRegression'>, {'penalty': 'l1', 'C': 0.3, 'solver': 'liblinear'}), 1.1: (<class 'sklearn.neural_network._multilayer_perceptron.MLPClassifier'>, {'hidden_layer_sizes': 50, 'alpha': 1.0})}\n",
      "fraction of 1's: 0.718052738336714\n",
      "\n",
      "best_model_type: <class 'sklearn.linear_model._logistic.LogisticRegression'>\n",
      "best params: (<class 'sklearn.linear_model._logistic.LogisticRegression'>, {'penalty': 'l1', 'C': 0.1, 'solver': 'liblinear'})\n",
      "[1 1 1 1 1 1 1 1 1 1 1 1 1 1 1 1 1 1 1 1 1 1 1 1 1 0 1 1 1 1]\n",
      "[1 0 1 0 1 1 1 1 1 0 1 1 1 1 1 0 1 1 0 1 1 0 0 1 1 0 1 1 1 1]\n",
      "on train set: Accuracy, Precision, Recall = 0.7690355329949239, 0.7663043478260869, 0.9825783972125436\n",
      "[1 1 1 1 1 1 0 1 1 1 0 1 1 1 0 1 1 1 1 1 1 1 1 0 1 1 1 0 1 1]\n",
      "[1 1 1 1 1 0 0 1 1 1 0 1 0 1 0 0 1 1 1 0 1 1 1 0 0 1 1 0 0 0]\n",
      "on test set: Accuracy, Precision, Recall = 0.7777777777777778, 0.7586206896551724, 0.9850746268656716\n",
      "fraction of 1's: 0.6693711967545639\n",
      "\n",
      "best_model_type: <class 'sklearn.svm._classes.SVC'>\n",
      "best params: (<class 'sklearn.svm._classes.SVC'>, {'kernel': 'sigmoid', 'C': 0.3})\n",
      "[1 1 1 0 1 1 0 1 1 1 1 1 1 1 1 1 1 1 1 1 1 1 1 1 1 1 1 1 1 1]\n",
      "[0 0 0 0 1 0 0 1 1 1 1 0 1 1 0 1 1 1 0 1 1 1 1 1 0 0 1 0 1 1]\n",
      "on train set: Accuracy, Precision, Recall = 0.6903553299492385, 0.6873315363881402, 0.9770114942528736\n",
      "[1 1 0 1 1 1 0 1 1 0 1 1 1 1 0 1 1 1 1 1 1 1 1 1 1 1 1 1 1 1]\n",
      "[0 1 0 0 0 1 1 1 1 0 1 1 0 1 0 0 1 0 1 0 0 0 1 1 1 0 1 1 1 1]\n",
      "on test set: Accuracy, Precision, Recall = 0.7171717171717171, 0.7204301075268817, 0.9710144927536232\n",
      "fraction of 1's: 0.5862068965517241\n",
      "\n",
      "best_model_type: <class 'sklearn.svm._classes.SVC'>\n",
      "best params: (<class 'sklearn.svm._classes.SVC'>, {'kernel': 'sigmoid', 'C': 0.3})\n",
      "[1 0 1 1 1 0 1 1 1 1 0 1 1 1 1 0 1 1 1 1 1 1 1 1 1 1 1 1 1 0]\n",
      "[0 1 1 1 1 1 0 0 0 0 0 1 1 1 1 1 0 0 0 1 0 1 1 1 1 1 0 0 0 0]\n",
      "on train set: Accuracy, Precision, Recall = 0.649746192893401, 0.6350148367952523, 0.9344978165938864\n",
      "[0 1 1 1 1 0 0 1 0 1 1 0 1 1 1 1 0 1 0 1 1 0 0 1 1 1 1 1 0 1]\n",
      "[0 0 1 1 1 0 0 0 0 1 1 1 1 0 1 1 0 0 1 0 0 1 0 1 1 1 1 0 1 1]\n",
      "on test set: Accuracy, Precision, Recall = 0.6262626262626263, 0.6385542168674698, 0.8833333333333333\n",
      "fraction of 1's: 0.4746450304259635\n",
      "\n",
      "best_model_type: <class 'sklearn.ensemble._weight_boosting.AdaBoostClassifier'>\n",
      "best params: (<class 'sklearn.ensemble._weight_boosting.AdaBoostClassifier'>, {'n_estimators': 31})\n",
      "[0 0 0 0 1 0 1 1 1 1 1 0 1 1 1 0 0 1 1 1 1 0 0 0 0 1 0 1 0 0]\n",
      "[0 0 0 0 1 0 1 0 1 1 1 0 0 1 0 1 0 0 1 1 1 0 1 0 0 0 0 1 0 0]\n",
      "on train set: Accuracy, Precision, Recall = 0.7766497461928934, 0.7626262626262627, 0.7864583333333334\n",
      "[0 0 1 0 0 0 1 1 0 0 1 1 1 0 0 1 0 1 0 0 0 1 0 0 1 1 1 0 0 0]\n",
      "[0 1 1 0 0 0 1 1 0 0 0 1 1 1 0 1 1 1 0 0 0 1 1 1 1 0 0 0 0 0]\n",
      "on test set: Accuracy, Precision, Recall = 0.696969696969697, 0.65, 0.6190476190476191\n",
      "fraction of 1's: 0.4178498985801217\n",
      "\n",
      "best_model_type: <class 'sklearn.linear_model._logistic.LogisticRegression'>\n",
      "best params: (<class 'sklearn.linear_model._logistic.LogisticRegression'>, {'penalty': 'l1', 'C': 0.3, 'solver': 'liblinear'})\n",
      "[0 0 0 0 1 0 0 0 1 0 0 1 1 0 0 0 1 0 0 0 0 0 0 0 0 0 0 0 0 0]\n",
      "[0 0 0 0 0 0 0 0 1 1 0 1 0 0 1 1 1 0 0 1 0 0 0 0 0 1 0 0 0 0]\n",
      "on train set: Accuracy, Precision, Recall = 0.7690355329949239, 0.8050847457627118, 0.5828220858895705\n",
      "[0 0 1 1 0 0 0 0 0 1 0 0 0 1 0 0 0 0 1 0 0 0 0 1 0 1 0 1 0 1]\n",
      "[1 1 0 1 0 0 1 0 0 1 0 0 0 1 0 0 0 0 1 1 1 0 0 1 0 0 0 1 0 1]\n",
      "on test set: Accuracy, Precision, Recall = 0.7575757575757576, 0.7435897435897436, 0.6744186046511628\n",
      "fraction of 1's: 0.36105476673427994\n",
      "\n",
      "best_model_type: <class 'sklearn.neural_network._multilayer_perceptron.MLPClassifier'>\n",
      "best params: (<class 'sklearn.neural_network._multilayer_perceptron.MLPClassifier'>, {'hidden_layer_sizes': 50, 'alpha': 1.0})\n",
      "[0 1 0 1 0 0 0 1 0 0 0 1 1 0 0 0 0 0 0 0 1 0 0 1 1 0 0 0 0 0]\n",
      "[0 1 0 1 0 0 0 1 0 0 0 1 1 0 0 0 0 0 0 0 1 0 0 1 1 0 0 0 0 0]\n",
      "on train set: Accuracy, Precision, Recall = 0.9720812182741116, 0.9852941176470589, 0.9370629370629371\n",
      "[0 0 0 0 0 0 0 1 1 0 0 0 1 1 1 0 1 1 0 1 0 0 0 0 0 0 1 0 1 1]\n",
      "[0 0 1 1 0 0 0 0 0 0 1 0 0 1 1 0 0 0 0 1 1 0 0 0 0 0 0 1 0 1]\n",
      "on test set: Accuracy, Precision, Recall = 0.696969696969697, 0.5806451612903226, 0.5142857142857142\n"
     ]
    }
   ],
   "source": [
    "print(best_params_dict)\n",
    "\n",
    "for threshold, best_params in best_params_dict.items():\n",
    "    X, yb = get_binary_classification_data(X_norm, y_norm, threshold)\n",
    "    xb_train, xb_test, yb_train, yb_test = train_test_split(X, yb, test_size=0.2)\n",
    "    best_model_type = best_params[0]\n",
    "    params = best_params[1]\n",
    "    print(f'')\n",
    "    print(f'best_model_type: {best_model_type}')\n",
    "    print(f'best params: {best_params}')\n",
    "    model = best_model_type(**params)\n",
    "    test_classification_model(model, xb_train, xb_test, yb_train, yb_test)"
   ]
  }
 ],
 "metadata": {
  "kernelspec": {
   "display_name": "Python 3 (ipykernel)",
   "language": "python",
   "name": "python3"
  },
  "language_info": {
   "codemirror_mode": {
    "name": "ipython",
    "version": 3
   },
   "file_extension": ".py",
   "mimetype": "text/x-python",
   "name": "python",
   "nbconvert_exporter": "python",
   "pygments_lexer": "ipython3",
   "version": "3.9.16"
  }
 },
 "nbformat": 4,
 "nbformat_minor": 5
}
